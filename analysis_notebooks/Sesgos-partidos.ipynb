{
 "cells": [
  {
   "cell_type": "markdown",
   "metadata": {},
   "source": [
    "# Sesgos de tweets cambiando partidos politicos\n",
    "En este notebook se analiza los csv *tweet_mods_political_parties_[PARTY].csv* según la toxicidad \"toxic\" y \"very_toxic\" del modelo *finetuned-toxic-political-tweets-es* de Newtral"
   ]
  },
  {
   "cell_type": "code",
   "execution_count": 2,
   "metadata": {
    "id": "BgWuGtT-HcU9"
   },
   "outputs": [],
   "source": [
    "import pandas as pd\n",
    "import numpy as np"
   ]
  },
  {
   "cell_type": "code",
   "execution_count": 3,
   "metadata": {
    "colab": {
     "base_uri": "https://localhost:8080/"
    },
    "executionInfo": {
     "elapsed": 215638,
     "status": "ok",
     "timestamp": 1639058514250,
     "user": {
      "displayName": "PABLO DAURELL MARINA",
      "photoUrl": "https://lh3.googleusercontent.com/a/default-user=s64",
      "userId": "06932073308626853139"
     },
     "user_tz": -60
    },
    "id": "4EiQ-CSLJcmY",
    "outputId": "591e985e-3610-4b76-f32e-8f811b58b87a"
   },
   "outputs": [],
   "source": [
    "if 'google.colab' in str(get_ipython()):\n",
    "  from google.colab import drive\n",
    "  drive.mount('/content/drive')\n",
    "  PP_tweets = pd.read_csv('/content/drive/Shareddrives/ETICA/TweetMod_csv/tweet_mods_political_parties_PP.csv')\n",
    "  PSOE_tweets = pd.read_csv('/content/drive/Shareddrives/ETICA/TweetMod_csv/tweet_mods_political_parties_PSOE.csv')\n",
    "  VOX_tweets = pd.read_csv('/content/drive/Shareddrives/ETICA/TweetMod_csv/tweet_mods_political_parties_VOX.csv')\n",
    "  Vox_tweets = pd.read_csv('/content/drive/Shareddrives/ETICA/TweetMod_csv/tweet_mods_political_parties_Vox.csv')\n",
    "  PODEMOS_tweets = pd.read_csv('/content/drive/Shareddrives/ETICA/TweetMod_csv/tweet_mods_political_parties_PODEMOS.csv')\n",
    "  Unidas_Podemos_tweets = pd.read_csv('/content/drive/Shareddrives/ETICA/TweetMod_csv/tweet_mods_political_parties_Unidas_Podemos.csv')\n",
    "  Ciudadanos_tweets = pd.read_csv('/content/drive/Shareddrives/ETICA/TweetMod_csv/tweet_mods_political_parties_Ciudadanos.csv')\n",
    "  Cs_tweets = pd.read_csv('/content/drive/Shareddrives/ETICA/TweetMod_csv/tweet_mods_political_parties_Cs.csv')\n",
    "else:\n",
    "  PP_tweets = pd.read_csv('../data/tweet_mods_political_parties_PP.csv')\n",
    "  PSOE_tweets = pd.read_csv('../data/tweet_mods_political_parties_PSOE.csv')\n",
    "  VOX_tweets = pd.read_csv('../data/tweet_mods_political_parties_VOX.csv')\n",
    "  Vox_tweets = pd.read_csv('../data/tweet_mods_political_parties_Vox.csv')\n",
    "  PODEMOS_tweets = pd.read_csv('../data/tweet_mods_political_parties_PODEMOS.csv')\n",
    "  Unidas_Podemos_tweets = pd.read_csv('../data/tweet_mods_political_parties_Unidas_Podemos.csv')\n",
    "  Ciudadanos_tweets = pd.read_csv('../data/tweet_mods_political_parties_Ciudadanos.csv')\n",
    "  Cs_tweets = pd.read_csv('../data/tweet_mods_political_parties_Cs.csv')"
   ]
  },
  {
   "cell_type": "code",
   "execution_count": 4,
   "metadata": {
    "id": "2aIuD02pkoA6"
   },
   "outputs": [],
   "source": [
    "palabras_politicas = [\"PP\", \"PSOE\", \"VOX\", \"PODEMOS\", \"Vox\", \"Cs\", \"Ciudadanos\", \"Unidas Podemos\", \"Partido popular\"]"
   ]
  },
  {
   "cell_type": "code",
   "execution_count": 9,
   "metadata": {
    "id": "Oflc9jv3gjnA"
   },
   "outputs": [],
   "source": [
    "tox_dict = { i : 0 for i in palabras_politicas }\n",
    "\n",
    "def variacionToxicidad(df, var=0.10, very_tox=0, key_words=palabras_politicas, tox_dict=tox_dict):\n",
    "  var_df = df.copy()\n",
    "  var_df.drop(var_df.index, inplace=True)\n",
    "\n",
    "  for idx, row in df.iterrows():\n",
    "    if very_tox == 0:\n",
    "      if row.most_toxic_party_toxicity > (row.toxic_original + var):\n",
    "        var_df = var_df.append(df.iloc[idx])\n",
    "    else:\n",
    "      if row.most_verytoxic_party_toxicity > (row.very_toxic_original + var):\n",
    "        var_df = var_df.append(df.iloc[idx])\n",
    "\n",
    "  print('\\t\\t Tweets totales: ', var_df.shape[0])\n",
    "  print('\\t\\t Cambiando la mención por:')\n",
    "  for p in key_words:\n",
    "    print('\\t\\t\\t -', p, ': ', var_df[var_df['most_toxic_party'] == p].shape[0])\n",
    "    tox_dict.update({p: tox_dict.get(p) + var_df[var_df['most_toxic_party'] == p].shape[0]})\n",
    "\n",
    "  return var_df"
   ]
  },
  {
   "cell_type": "markdown",
   "metadata": {},
   "source": [
    "#### Vamos a ver como ha cambiado la toxicidad de un tweet sustituyendo la mención a un partido por una mención a otro partido distinto:"
   ]
  },
  {
   "cell_type": "code",
   "execution_count": 13,
   "metadata": {
    "colab": {
     "base_uri": "https://localhost:8080/"
    },
    "executionInfo": {
     "elapsed": 5505,
     "status": "ok",
     "timestamp": 1639060184926,
     "user": {
      "displayName": "PABLO DAURELL MARINA",
      "photoUrl": "https://lh3.googleusercontent.com/a/default-user=s64",
      "userId": "06932073308626853139"
     },
     "user_tz": -60
    },
    "id": "_uis0fG_knSy",
    "outputId": "f8398b11-c783-4380-d59b-15df8bd35dd8"
   },
   "outputs": [
    {
     "name": "stdout",
     "output_type": "stream",
     "text": [
      "Menciones PP\n",
      "\t Aumento de Toxic:\n",
      "\t\t Tweets totales:  241\n",
      "\t\t Cambiando la mención por:\n",
      "\t\t\t - PP :  0\n",
      "\t\t\t - PSOE :  3\n",
      "\t\t\t - VOX :  92\n",
      "\t\t\t - PODEMOS :  53\n",
      "\t\t\t - Vox :  20\n",
      "\t\t\t - Cs :  3\n",
      "\t\t\t - Ciudadanos :  3\n",
      "\t\t\t - Unidas Podemos :  63\n",
      "\t\t\t - Partido popular :  4\n",
      "\t Aumento de Very Toxic:\n",
      "\t\t Tweets totales:  44\n",
      "\t\t Cambiando la mención por:\n",
      "\t\t\t - PP :  0\n",
      "\t\t\t - PSOE :  0\n",
      "\t\t\t - VOX :  16\n",
      "\t\t\t - PODEMOS :  9\n",
      "\t\t\t - Vox :  2\n",
      "\t\t\t - Cs :  0\n",
      "\t\t\t - Ciudadanos :  3\n",
      "\t\t\t - Unidas Podemos :  12\n",
      "\t\t\t - Partido popular :  2\n",
      "Menciones PSOE\n",
      "\t Aumento de Toxic:\n",
      "\t\t Tweets totales:  127\n",
      "\t\t Cambiando la mención por:\n",
      "\t\t\t - PP :  1\n",
      "\t\t\t - PSOE :  0\n",
      "\t\t\t - VOX :  44\n",
      "\t\t\t - PODEMOS :  32\n",
      "\t\t\t - Vox :  11\n",
      "\t\t\t - Cs :  1\n",
      "\t\t\t - Ciudadanos :  4\n",
      "\t\t\t - Unidas Podemos :  31\n",
      "\t\t\t - Partido popular :  3\n",
      "\t Aumento de Very Toxic:\n",
      "\t\t Tweets totales:  19\n",
      "\t\t Cambiando la mención por:\n",
      "\t\t\t - PP :  0\n",
      "\t\t\t - PSOE :  0\n",
      "\t\t\t - VOX :  8\n",
      "\t\t\t - PODEMOS :  7\n",
      "\t\t\t - Vox :  1\n",
      "\t\t\t - Cs :  1\n",
      "\t\t\t - Ciudadanos :  0\n",
      "\t\t\t - Unidas Podemos :  2\n",
      "\t\t\t - Partido popular :  0\n",
      "Menciones VOX\n",
      "\t Aumento de Toxic:\n",
      "\t\t Tweets totales:  49\n",
      "\t\t Cambiando la mención por:\n",
      "\t\t\t - PP :  2\n",
      "\t\t\t - PSOE :  0\n",
      "\t\t\t - VOX :  0\n",
      "\t\t\t - PODEMOS :  29\n",
      "\t\t\t - Vox :  4\n",
      "\t\t\t - Cs :  0\n",
      "\t\t\t - Ciudadanos :  2\n",
      "\t\t\t - Unidas Podemos :  9\n",
      "\t\t\t - Partido popular :  3\n",
      "\t Aumento de Very Toxic:\n",
      "\t\t Tweets totales:  12\n",
      "\t\t Cambiando la mención por:\n",
      "\t\t\t - PP :  1\n",
      "\t\t\t - PSOE :  1\n",
      "\t\t\t - VOX :  0\n",
      "\t\t\t - PODEMOS :  1\n",
      "\t\t\t - Vox :  0\n",
      "\t\t\t - Cs :  0\n",
      "\t\t\t - Ciudadanos :  2\n",
      "\t\t\t - Unidas Podemos :  6\n",
      "\t\t\t - Partido popular :  1\n",
      "Menciones Vox\n",
      "\t Aumento de Toxic:\n",
      "\t\t Tweets totales:  49\n",
      "\t\t Cambiando la mención por:\n",
      "\t\t\t - PP :  2\n",
      "\t\t\t - PSOE :  0\n",
      "\t\t\t - VOX :  0\n",
      "\t\t\t - PODEMOS :  29\n",
      "\t\t\t - Vox :  4\n",
      "\t\t\t - Cs :  0\n",
      "\t\t\t - Ciudadanos :  2\n",
      "\t\t\t - Unidas Podemos :  9\n",
      "\t\t\t - Partido popular :  3\n",
      "\t Aumento de Very Toxic:\n",
      "\t\t Tweets totales:  12\n",
      "\t\t Cambiando la mención por:\n",
      "\t\t\t - PP :  1\n",
      "\t\t\t - PSOE :  1\n",
      "\t\t\t - VOX :  0\n",
      "\t\t\t - PODEMOS :  1\n",
      "\t\t\t - Vox :  0\n",
      "\t\t\t - Cs :  0\n",
      "\t\t\t - Ciudadanos :  2\n",
      "\t\t\t - Unidas Podemos :  6\n",
      "\t\t\t - Partido popular :  1\n",
      "Menciones PODEMOS\n",
      "\t Aumento de Toxic:\n",
      "\t\t Tweets totales:  7\n",
      "\t\t Cambiando la mención por:\n",
      "\t\t\t - PP :  0\n",
      "\t\t\t - PSOE :  1\n",
      "\t\t\t - VOX :  2\n",
      "\t\t\t - PODEMOS :  0\n",
      "\t\t\t - Vox :  3\n",
      "\t\t\t - Cs :  0\n",
      "\t\t\t - Ciudadanos :  0\n",
      "\t\t\t - Unidas Podemos :  1\n",
      "\t\t\t - Partido popular :  0\n",
      "\t Aumento de Very Toxic:\n",
      "\t\t Tweets totales:  1\n",
      "\t\t Cambiando la mención por:\n",
      "\t\t\t - PP :  0\n",
      "\t\t\t - PSOE :  0\n",
      "\t\t\t - VOX :  0\n",
      "\t\t\t - PODEMOS :  0\n",
      "\t\t\t - Vox :  0\n",
      "\t\t\t - Cs :  0\n",
      "\t\t\t - Ciudadanos :  0\n",
      "\t\t\t - Unidas Podemos :  1\n",
      "\t\t\t - Partido popular :  0\n",
      "Menciones Unidas Podemos\n",
      "\t Aumento de Toxic:\n",
      "\t\t Tweets totales:  3\n",
      "\t\t Cambiando la mención por:\n",
      "\t\t\t - PP :  0\n",
      "\t\t\t - PSOE :  0\n",
      "\t\t\t - VOX :  2\n",
      "\t\t\t - PODEMOS :  1\n",
      "\t\t\t - Vox :  0\n",
      "\t\t\t - Cs :  0\n",
      "\t\t\t - Ciudadanos :  0\n",
      "\t\t\t - Unidas Podemos :  0\n",
      "\t\t\t - Partido popular :  0\n",
      "\t Aumento de Very Toxic:\n",
      "\t\t Tweets totales:  0\n",
      "\t\t Cambiando la mención por:\n",
      "\t\t\t - PP :  0\n",
      "\t\t\t - PSOE :  0\n",
      "\t\t\t - VOX :  0\n",
      "\t\t\t - PODEMOS :  0\n",
      "\t\t\t - Vox :  0\n",
      "\t\t\t - Cs :  0\n",
      "\t\t\t - Ciudadanos :  0\n",
      "\t\t\t - Unidas Podemos :  0\n",
      "\t\t\t - Partido popular :  0\n",
      "Menciones Ciudadanos\n",
      "\t Aumento de Toxic:\n",
      "\t\t Tweets totales:  43\n",
      "\t\t Cambiando la mención por:\n",
      "\t\t\t - PP :  7\n",
      "\t\t\t - PSOE :  1\n",
      "\t\t\t - VOX :  18\n",
      "\t\t\t - PODEMOS :  2\n",
      "\t\t\t - Vox :  4\n",
      "\t\t\t - Cs :  0\n",
      "\t\t\t - Ciudadanos :  0\n",
      "\t\t\t - Unidas Podemos :  8\n",
      "\t\t\t - Partido popular :  3\n",
      "\t Aumento de Very Toxic:\n",
      "\t\t Tweets totales:  7\n",
      "\t\t Cambiando la mención por:\n",
      "\t\t\t - PP :  1\n",
      "\t\t\t - PSOE :  1\n",
      "\t\t\t - VOX :  2\n",
      "\t\t\t - PODEMOS :  0\n",
      "\t\t\t - Vox :  1\n",
      "\t\t\t - Cs :  0\n",
      "\t\t\t - Ciudadanos :  0\n",
      "\t\t\t - Unidas Podemos :  2\n",
      "\t\t\t - Partido popular :  0\n",
      "Menciones Cs\n",
      "\t Aumento de Toxic:\n",
      "\t\t Tweets totales:  83\n",
      "\t\t Cambiando la mención por:\n",
      "\t\t\t - PP :  0\n",
      "\t\t\t - PSOE :  4\n",
      "\t\t\t - VOX :  31\n",
      "\t\t\t - PODEMOS :  18\n",
      "\t\t\t - Vox :  4\n",
      "\t\t\t - Cs :  0\n",
      "\t\t\t - Ciudadanos :  4\n",
      "\t\t\t - Unidas Podemos :  19\n",
      "\t\t\t - Partido popular :  3\n",
      "\t Aumento de Very Toxic:\n",
      "\t\t Tweets totales:  9\n",
      "\t\t Cambiando la mención por:\n",
      "\t\t\t - PP :  0\n",
      "\t\t\t - PSOE :  1\n",
      "\t\t\t - VOX :  3\n",
      "\t\t\t - PODEMOS :  2\n",
      "\t\t\t - Vox :  1\n",
      "\t\t\t - Cs :  0\n",
      "\t\t\t - Ciudadanos :  1\n",
      "\t\t\t - Unidas Podemos :  0\n",
      "\t\t\t - Partido popular :  1\n"
     ]
    }
   ],
   "source": [
    "print('Menciones PP')\n",
    "print('\\t Aumento de Toxic:')\n",
    "PP_variacion_tox = variacionToxicidad(PP_tweets)\n",
    "print('\\t Aumento de Very Toxic:')\n",
    "PP_variacion_verytox = variacionToxicidad(PP_tweets, very_tox=1)\n",
    "\n",
    "print('Menciones PSOE')\n",
    "print('\\t Aumento de Toxic:')\n",
    "PSOE_variacion_tox = variacionToxicidad(PSOE_tweets)\n",
    "print('\\t Aumento de Very Toxic:')\n",
    "PSOE_variacion_verytox = variacionToxicidad(PSOE_tweets, very_tox=1)\n",
    "\n",
    "print('Menciones VOX')\n",
    "print('\\t Aumento de Toxic:')\n",
    "VOX_variacion_tox = variacionToxicidad(VOX_tweets)\n",
    "print('\\t Aumento de Very Toxic:')\n",
    "VOX_variacion_verytox = variacionToxicidad(VOX_tweets, very_tox=1)\n",
    "\n",
    "print('Menciones Vox')\n",
    "print('\\t Aumento de Toxic:')\n",
    "Vox_variacion_tox = variacionToxicidad(Vox_tweets)\n",
    "print('\\t Aumento de Very Toxic:')\n",
    "Vox_variacion_verytox = variacionToxicidad(Vox_tweets, very_tox=1)\n",
    "\n",
    "print('Menciones PODEMOS')\n",
    "print('\\t Aumento de Toxic:')\n",
    "PODEMOS_variacion_tox = variacionToxicidad(PODEMOS_tweets)\n",
    "print('\\t Aumento de Very Toxic:')\n",
    "PODEMOS_variacion_verytox = variacionToxicidad(PODEMOS_tweets, very_tox=1)\n",
    "\n",
    "print('Menciones Unidas Podemos')\n",
    "print('\\t Aumento de Toxic:')\n",
    "Unidas_Podemos_variacion_tox = variacionToxicidad(Unidas_Podemos_tweets)\n",
    "print('\\t Aumento de Very Toxic:')\n",
    "Unidas_Podemos_variacion_verytox = variacionToxicidad(Unidas_Podemos_tweets, very_tox=1)\n",
    "\n",
    "print('Menciones Ciudadanos')\n",
    "print('\\t Aumento de Toxic:')\n",
    "Ciudadanos_variacion_tox = variacionToxicidad(Ciudadanos_tweets)\n",
    "print('\\t Aumento de Very Toxic:')\n",
    "Ciudadanos_variacion_verytox = variacionToxicidad(Ciudadanos_tweets, very_tox=1)\n",
    "\n",
    "print('Menciones Cs')\n",
    "print('\\t Aumento de Toxic:')\n",
    "Cs_variacion_tox = variacionToxicidad(Cs_tweets)\n",
    "print('\\t Aumento de Very Toxic:')\n",
    "Cs_variacion_verytox = variacionToxicidad(Cs_tweets, very_tox=1)"
   ]
  },
  {
   "cell_type": "code",
   "execution_count": 14,
   "metadata": {
    "id": "PDnZ9zVOe6Y0"
   },
   "outputs": [],
   "source": [
    "datasets_tox = [PP_variacion_tox, PSOE_variacion_tox, VOX_variacion_tox, Vox_variacion_tox, PODEMOS_variacion_tox, Unidas_Podemos_variacion_tox, Ciudadanos_variacion_tox, Cs_variacion_tox]\n",
    "datasets_verytox = [PP_variacion_verytox, PSOE_variacion_verytox, VOX_variacion_verytox, Vox_variacion_verytox, PODEMOS_variacion_verytox, Unidas_Podemos_variacion_verytox, Ciudadanos_variacion_verytox, Cs_variacion_verytox]"
   ]
  },
  {
   "cell_type": "code",
   "execution_count": 17,
   "metadata": {},
   "outputs": [
    {
     "name": "stdout",
     "output_type": "stream",
     "text": [
      "Python 3.9.7\n"
     ]
    }
   ],
   "source": [
    "!python --version"
   ]
  },
  {
   "cell_type": "markdown",
   "metadata": {},
   "source": [
    "#### Vemos cuáles son las menciones que han aumentado más la toxicidad de los tweets:"
   ]
  },
  {
   "cell_type": "code",
   "execution_count": 18,
   "metadata": {},
   "outputs": [
    {
     "data": {
      "text/plain": [
       "[('VOX', 872),\n",
       " ('PODEMOS', 736),\n",
       " ('Unidas Podemos', 676),\n",
       " ('Vox', 220),\n",
       " ('Partido popular', 96),\n",
       " ('Ciudadanos', 92),\n",
       " ('PP', 60),\n",
       " ('PSOE', 52),\n",
       " ('Cs', 20)]"
      ]
     },
     "execution_count": 18,
     "metadata": {},
     "output_type": "execute_result"
    }
   ],
   "source": [
    "sorted(tox_dict.items(), key=lambda x: x[1], reverse=True)"
   ]
  },
  {
   "cell_type": "markdown",
   "metadata": {},
   "source": [
    "> VOX/Vox y Podemos/Unidas Podemos, son las menciones que más aumentan la toxicidad de un tweet"
   ]
  }
 ],
 "metadata": {
  "colab": {
   "collapsed_sections": [],
   "name": "Sesgos-Partidos.ipynb",
   "provenance": []
  },
  "kernelspec": {
   "display_name": "Python 3 (ipykernel)",
   "language": "python",
   "name": "python3"
  },
  "language_info": {
   "codemirror_mode": {
    "name": "ipython",
    "version": 3
   },
   "file_extension": ".py",
   "mimetype": "text/x-python",
   "name": "python",
   "nbconvert_exporter": "python",
   "pygments_lexer": "ipython3",
   "version": "3.9.7"
  }
 },
 "nbformat": 4,
 "nbformat_minor": 4
}
