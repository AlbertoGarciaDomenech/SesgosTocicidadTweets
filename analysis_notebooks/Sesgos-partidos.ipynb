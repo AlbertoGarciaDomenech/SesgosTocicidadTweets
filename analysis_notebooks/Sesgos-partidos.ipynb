{
 "cells": [
  {
   "cell_type": "markdown",
   "metadata": {},
   "source": [
    "# Sesgos de tweets cambiando partidos politicos"
   ]
  },
  {
   "cell_type": "code",
   "execution_count": null,
   "metadata": {
    "id": "BgWuGtT-HcU9"
   },
   "outputs": [],
   "source": [
    "import pandas as pd\n",
    "import numpy as np"
   ]
  },
  {
   "cell_type": "code",
   "execution_count": null,
   "metadata": {
    "colab": {
     "base_uri": "https://localhost:8080/"
    },
    "executionInfo": {
     "elapsed": 215638,
     "status": "ok",
     "timestamp": 1639058514250,
     "user": {
      "displayName": "PABLO DAURELL MARINA",
      "photoUrl": "https://lh3.googleusercontent.com/a/default-user=s64",
      "userId": "06932073308626853139"
     },
     "user_tz": -60
    },
    "id": "4EiQ-CSLJcmY",
    "outputId": "591e985e-3610-4b76-f32e-8f811b58b87a"
   },
   "outputs": [
    {
     "name": "stdout",
     "output_type": "stream",
     "text": [
      "Mounted at /content/drive\n"
     ]
    }
   ],
   "source": [
    "if 'google.colab' in str(get_ipython()):\n",
    "  from google.colab import drive\n",
    "  drive.mount('/content/drive')\n",
    "  PP_tweets = pd.read_csv('/content/drive/Shareddrives/ETICA/TweetMod_csv/tweet_mods_political_parties_PP.csv')\n",
    "  PSOE_tweets = pd.read_csv('/content/drive/Shareddrives/ETICA/TweetMod_csv/tweet_mods_political_parties_PSOE.csv')\n",
    "  VOX_tweets = pd.read_csv('/content/drive/Shareddrives/ETICA/TweetMod_csv/tweet_mods_political_parties_VOX.csv')\n",
    "  Vox_tweets = pd.read_csv('/content/drive/Shareddrives/ETICA/TweetMod_csv/tweet_mods_political_parties_Vox.csv')\n",
    "  PODEMOS_tweets = pd.read_csv('/content/drive/Shareddrives/ETICA/TweetMod_csv/tweet_mods_political_parties_PODEMOS.csv')\n",
    "  Unidas_Podemos_tweets = pd.read_csv('/content/drive/Shareddrives/ETICA/TweetMod_csv/tweet_mods_political_parties_Unidas_Podemos.csv')\n",
    "  Ciudadanos_tweets = pd.read_csv('/content/drive/Shareddrives/ETICA/TweetMod_csv/tweet_mods_political_parties_Ciudadanos.csv')\n",
    "  Cs_tweets = pd.read_csv('/content/drive/Shareddrives/ETICA/TweetMod_csv/tweet_mods_political_parties_Cs.csv')\n",
    "else:\n",
    "  PP_tweets = pd.read_csv('../data/tweet_mods_political_parties_PP.csv')\n",
    "  PSOE_tweets = pd.read_csv('../data/tweet_mods_political_parties_PSOE.csv')\n",
    "  VOX_tweets = pd.read_csv('../data/tweet_mods_political_parties_VOX.csv')\n",
    "  Vox_tweets = pd.read_csv('../data/tweet_mods_political_parties_Vox.csv')\n",
    "  PODEMOS_tweets = pd.read_csv('../data/tweet_mods_political_parties_PODEMOS.csv')\n",
    "  Unidas_Podemos_tweets = pd.read_csv('../data/tweet_mods_political_parties_Unidas_Podemos.csv')\n",
    "  Ciudadanos_tweets = pd.read_csv('../data/tweet_mods_political_parties_Ciudadanos.csv')\n",
    "  Cs_tweets = pd.read_csv('../data/tweet_mods_political_parties_Cs.csv')"
   ]
  },
  {
   "cell_type": "code",
   "execution_count": null,
   "metadata": {
    "id": "2aIuD02pkoA6"
   },
   "outputs": [],
   "source": [
    "palabras_politicas = [\"PP\", \"PSOE\", \"VOX\", \"PODEMOS\", \"Vox\", \"Cs\", \"Ciudadanos\", \"Unidas Podemos\", \"Partido popular\"]"
   ]
  },
  {
   "cell_type": "code",
   "execution_count": null,
   "metadata": {
    "id": "Oflc9jv3gjnA"
   },
   "outputs": [],
   "source": [
    "tox_dict = { i : 0 for i in palabras_politicas }\n",
    "\n",
    "def variacionToxicidad(df, var=0.10, very_tox=0, key_words=palabras_politicas, tox_dict=tox_dict):\n",
    "  var_df = df.copy()\n",
    "  var_df.drop(var_df.index, inplace=True)\n",
    "\n",
    "  for idx, row in df.iterrows():\n",
    "    if very_tox == 0:\n",
    "      if row.most_toxic_party_toxicity > (row.toxic_original + var):\n",
    "        var_df = var_df.append(df.iloc[idx])\n",
    "    else:\n",
    "      if row.most_verytoxic_party_toxicity > (row.very_toxic_original + var):\n",
    "        var_df = var_df.append(df.iloc[idx])\n",
    "\n",
    "  print('Tweets: ', var_df.shape[0])\n",
    "  for p in key_words:\n",
    "    print('\\t -', p, ': ', var_df[var_df['most_toxic_party'] == p].shape[0])\n",
    "    tox_dict.update({p: tox_dict.get(p) + var_df[var_df['most_toxic_party'] == p].shape[0]})\n",
    "\n",
    "  return var_df"
   ]
  },
  {
   "cell_type": "code",
   "execution_count": null,
   "metadata": {
    "colab": {
     "base_uri": "https://localhost:8080/"
    },
    "executionInfo": {
     "elapsed": 5505,
     "status": "ok",
     "timestamp": 1639060184926,
     "user": {
      "displayName": "PABLO DAURELL MARINA",
      "photoUrl": "https://lh3.googleusercontent.com/a/default-user=s64",
      "userId": "06932073308626853139"
     },
     "user_tz": -60
    },
    "id": "_uis0fG_knSy",
    "outputId": "f8398b11-c783-4380-d59b-15df8bd35dd8"
   },
   "outputs": [
    {
     "name": "stdout",
     "output_type": "stream",
     "text": [
      "PP\n",
      "Tweets:  241\n",
      "\t - PP :  0\n",
      "\t - PSOE :  3\n",
      "\t - VOX :  92\n",
      "\t - PODEMOS :  53\n",
      "\t - Vox :  20\n",
      "\t - Cs :  3\n",
      "\t - Ciudadanos :  3\n",
      "\t - Unidas Podemos :  63\n",
      "\t - Partido popular :  4\n",
      "Tweets:  44\n",
      "\t - PP :  0\n",
      "\t - PSOE :  0\n",
      "\t - VOX :  16\n",
      "\t - PODEMOS :  9\n",
      "\t - Vox :  2\n",
      "\t - Cs :  0\n",
      "\t - Ciudadanos :  3\n",
      "\t - Unidas Podemos :  12\n",
      "\t - Partido popular :  2\n",
      "PSOE\n",
      "Tweets:  127\n",
      "\t - PP :  1\n",
      "\t - PSOE :  0\n",
      "\t - VOX :  44\n",
      "\t - PODEMOS :  32\n",
      "\t - Vox :  11\n",
      "\t - Cs :  1\n",
      "\t - Ciudadanos :  4\n",
      "\t - Unidas Podemos :  31\n",
      "\t - Partido popular :  3\n",
      "Tweets:  19\n",
      "\t - PP :  0\n",
      "\t - PSOE :  0\n",
      "\t - VOX :  8\n",
      "\t - PODEMOS :  7\n",
      "\t - Vox :  1\n",
      "\t - Cs :  1\n",
      "\t - Ciudadanos :  0\n",
      "\t - Unidas Podemos :  2\n",
      "\t - Partido popular :  0\n",
      "VOX\n",
      "Tweets:  49\n",
      "\t - PP :  2\n",
      "\t - PSOE :  0\n",
      "\t - VOX :  0\n",
      "\t - PODEMOS :  29\n",
      "\t - Vox :  4\n",
      "\t - Cs :  0\n",
      "\t - Ciudadanos :  2\n",
      "\t - Unidas Podemos :  9\n",
      "\t - Partido popular :  3\n",
      "Tweets:  12\n",
      "\t - PP :  1\n",
      "\t - PSOE :  1\n",
      "\t - VOX :  0\n",
      "\t - PODEMOS :  1\n",
      "\t - Vox :  0\n",
      "\t - Cs :  0\n",
      "\t - Ciudadanos :  2\n",
      "\t - Unidas Podemos :  6\n",
      "\t - Partido popular :  1\n",
      "Vox\n",
      "Tweets:  83\n",
      "\t - PP :  5\n",
      "\t - PSOE :  7\n",
      "\t - VOX :  19\n",
      "\t - PODEMOS :  30\n",
      "\t - Vox :  0\n",
      "\t - Cs :  0\n",
      "\t - Ciudadanos :  5\n",
      "\t - Unidas Podemos :  15\n",
      "\t - Partido popular :  2\n",
      "Tweets:  20\n",
      "\t - PP :  2\n",
      "\t - PSOE :  5\n",
      "\t - VOX :  1\n",
      "\t - PODEMOS :  5\n",
      "\t - Vox :  0\n",
      "\t - Cs :  1\n",
      "\t - Ciudadanos :  4\n",
      "\t - Unidas Podemos :  2\n",
      "\t - Partido popular :  0\n",
      "PODEMOS\n",
      "Tweets:  7\n",
      "\t - PP :  0\n",
      "\t - PSOE :  1\n",
      "\t - VOX :  2\n",
      "\t - PODEMOS :  0\n",
      "\t - Vox :  3\n",
      "\t - Cs :  0\n",
      "\t - Ciudadanos :  0\n",
      "\t - Unidas Podemos :  1\n",
      "\t - Partido popular :  0\n",
      "Tweets:  1\n",
      "\t - PP :  0\n",
      "\t - PSOE :  0\n",
      "\t - VOX :  0\n",
      "\t - PODEMOS :  0\n",
      "\t - Vox :  0\n",
      "\t - Cs :  0\n",
      "\t - Ciudadanos :  0\n",
      "\t - Unidas Podemos :  1\n",
      "\t - Partido popular :  0\n",
      "Unidas Podemos\n",
      "Tweets:  3\n",
      "\t - PP :  0\n",
      "\t - PSOE :  0\n",
      "\t - VOX :  2\n",
      "\t - PODEMOS :  1\n",
      "\t - Vox :  0\n",
      "\t - Cs :  0\n",
      "\t - Ciudadanos :  0\n",
      "\t - Unidas Podemos :  0\n",
      "\t - Partido popular :  0\n",
      "Tweets:  0\n",
      "\t - PP :  0\n",
      "\t - PSOE :  0\n",
      "\t - VOX :  0\n",
      "\t - PODEMOS :  0\n",
      "\t - Vox :  0\n",
      "\t - Cs :  0\n",
      "\t - Ciudadanos :  0\n",
      "\t - Unidas Podemos :  0\n",
      "\t - Partido popular :  0\n",
      "Ciudadanos\n",
      "Tweets:  43\n",
      "\t - PP :  7\n",
      "\t - PSOE :  1\n",
      "\t - VOX :  18\n",
      "\t - PODEMOS :  2\n",
      "\t - Vox :  4\n",
      "\t - Cs :  0\n",
      "\t - Ciudadanos :  0\n",
      "\t - Unidas Podemos :  8\n",
      "\t - Partido popular :  3\n",
      "Tweets:  7\n",
      "\t - PP :  1\n",
      "\t - PSOE :  1\n",
      "\t - VOX :  2\n",
      "\t - PODEMOS :  0\n",
      "\t - Vox :  1\n",
      "\t - Cs :  0\n",
      "\t - Ciudadanos :  0\n",
      "\t - Unidas Podemos :  2\n",
      "\t - Partido popular :  0\n",
      "Cs\n",
      "Tweets:  83\n",
      "\t - PP :  0\n",
      "\t - PSOE :  4\n",
      "\t - VOX :  31\n",
      "\t - PODEMOS :  18\n",
      "\t - Vox :  4\n",
      "\t - Cs :  0\n",
      "\t - Ciudadanos :  4\n",
      "\t - Unidas Podemos :  19\n",
      "\t - Partido popular :  3\n",
      "Tweets:  9\n",
      "\t - PP :  0\n",
      "\t - PSOE :  1\n",
      "\t - VOX :  3\n",
      "\t - PODEMOS :  2\n",
      "\t - Vox :  1\n",
      "\t - Cs :  0\n",
      "\t - Ciudadanos :  1\n",
      "\t - Unidas Podemos :  0\n",
      "\t - Partido popular :  1\n"
     ]
    }
   ],
   "source": [
    "print('PP')\n",
    "PP_variacion_tox = variacionToxicidad(PP_tweets)\n",
    "PP_variacion_verytox = variacionToxicidad(PP_tweets, very_tox=1)\n",
    "\n",
    "print('PSOE')\n",
    "PSOE_variacion_tox = variacionToxicidad(PSOE_tweets)\n",
    "PSOE_variacion_verytox = variacionToxicidad(PSOE_tweets, very_tox=1)\n",
    "\n",
    "print('VOX')\n",
    "VOX_variacion_tox = variacionToxicidad(VOX_tweets)\n",
    "VOX_variacion_verytox = variacionToxicidad(VOX_tweets, very_tox=1)\n",
    "\n",
    "print('Vox')\n",
    "Vox_variacion_tox = variacionToxicidad(Vox_tweets)\n",
    "Vox_variacion_verytox = variacionToxicidad(Vox_tweets, very_tox=1)\n",
    "\n",
    "print('PODEMOS')\n",
    "PODEMOS_variacion_tox = variacionToxicidad(PODEMOS_tweets)\n",
    "PODEMOS_variacion_verytox = variacionToxicidad(PODEMOS_tweets, very_tox=1)\n",
    "\n",
    "print('Unidas Podemos')\n",
    "Unidas_Podemos_variacion_tox = variacionToxicidad(Unidas_Podemos_tweets)\n",
    "Unidas_Podemos_variacion_verytox = variacionToxicidad(Unidas_Podemos_tweets, very_tox=1)\n",
    "\n",
    "print('Ciudadanos')\n",
    "Ciudadanos_variacion_tox = variacionToxicidad(Ciudadanos_tweets)\n",
    "Ciudadanos_variacion_verytox = variacionToxicidad(Ciudadanos_tweets, very_tox=1)\n",
    "\n",
    "print('Cs')\n",
    "Cs_variacion_tox = variacionToxicidad(Cs_tweets)\n",
    "Cs_variacion_verytox = variacionToxicidad(Cs_tweets, very_tox=1)"
   ]
  },
  {
   "cell_type": "code",
   "execution_count": null,
   "metadata": {
    "id": "PDnZ9zVOe6Y0"
   },
   "outputs": [],
   "source": [
    "datasets_tox = [PP_variacion_tox, PSOE_variacion_tox, VOX_variacion_tox, Vox_variacion_tox, PODEMOS_variacion_tox, Unidas_Podemos_variacion_tox, Ciudadanos_variacion_tox, Cs_variacion_tox]\n",
    "datasets_verytox = [PP_variacion_verytox, PSOE_variacion_verytox, VOX_variacion_verytox, Vox_variacion_verytox, PODEMOS_variacion_verytox, Unidas_Podemos_variacion_verytox, Ciudadanos_variacion_verytox, Cs_variacion_verytox]"
   ]
  },
  {
   "cell_type": "code",
   "execution_count": null,
   "metadata": {
    "colab": {
     "base_uri": "https://localhost:8080/"
    },
    "executionInfo": {
     "elapsed": 391,
     "status": "ok",
     "timestamp": 1639060236677,
     "user": {
      "displayName": "PABLO DAURELL MARINA",
      "photoUrl": "https://lh3.googleusercontent.com/a/default-user=s64",
      "userId": "06932073308626853139"
     },
     "user_tz": -60
    },
    "id": "Lsslk1KmmbkE",
    "outputId": "40497b75-6a59-46a3-e2e5-03c2bfaeec58"
   },
   "outputs": [
    {
     "data": {
      "text/plain": [
       "{'Ciudadanos': 28,\n",
       " 'Cs': 6,\n",
       " 'PODEMOS': 189,\n",
       " 'PP': 19,\n",
       " 'PSOE': 24,\n",
       " 'Partido popular': 22,\n",
       " 'Unidas Podemos': 171,\n",
       " 'VOX': 238,\n",
       " 'Vox': 51}"
      ]
     },
     "execution_count": 27,
     "metadata": {},
     "output_type": "execute_result"
    }
   ],
   "source": [
    "tox_dict"
   ]
  }
 ],
 "metadata": {
  "colab": {
   "collapsed_sections": [],
   "name": "Sesgos-Partidos.ipynb",
   "provenance": []
  },
  "kernelspec": {
   "display_name": "Python 3 (ipykernel)",
   "language": "python",
   "name": "python3"
  },
  "language_info": {
   "codemirror_mode": {
    "name": "ipython",
    "version": 3
   },
   "file_extension": ".py",
   "mimetype": "text/x-python",
   "name": "python",
   "nbconvert_exporter": "python",
   "pygments_lexer": "ipython3",
   "version": "3.9.7"
  }
 },
 "nbformat": 4,
 "nbformat_minor": 4
}
