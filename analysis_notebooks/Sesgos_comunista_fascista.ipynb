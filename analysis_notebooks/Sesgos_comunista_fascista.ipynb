{
 "cells": [
  {
   "cell_type": "markdown",
   "metadata": {
    "id": "KXCvPkkv0aAy"
   },
   "source": [
    "# Sesgos fascismo/comunismo\n",
    "En este notebook se analiza el csv *tweet_mods_fascism_communism.csv* según la toxicidad \"toxic\" y \"very_toxic\" del modelo *finetuned-toxic-political-tweets-es* de Newtral"
   ]
  },
  {
   "cell_type": "code",
   "execution_count": 1,
   "metadata": {
    "id": "BgWuGtT-HcU9"
   },
   "outputs": [],
   "source": [
    "import pandas as pd\n",
    "import numpy as np"
   ]
  },
  {
   "cell_type": "code",
   "execution_count": 2,
   "metadata": {
    "colab": {
     "base_uri": "https://localhost:8080/"
    },
    "id": "4EiQ-CSLJcmY",
    "outputId": "8e4c643c-bdd8-4907-9141-ee01c59b86cf"
   },
   "outputs": [
    {
     "name": "stdout",
     "output_type": "stream",
     "text": [
      "Mounted at /content/drive\n"
     ]
    }
   ],
   "source": [
    "if 'google.colab' in str(get_ipython()):\n",
    "  from google.colab import drive\n",
    "  drive.mount('/content/drive')\n",
    "  tweets = pd.read_csv('/content/drive/Shareddrives/ETICA/TweetMod_csv/tweet_mods_fascism_communism.csv')\n",
    "else:\n",
    "  tweets = pd.read_csv('../data/tweet_mods_fascism_communism.csv')"
   ]
  },
  {
   "cell_type": "code",
   "execution_count": 3,
   "metadata": {
    "id": "2aIuD02pkoA6"
   },
   "outputs": [],
   "source": [
    "palabras_politicas = [\"comunista\", \"fascista\", \"comunismo\", \"fascismo\"]"
   ]
  },
  {
   "cell_type": "code",
   "execution_count": 4,
   "metadata": {
    "id": "Oflc9jv3gjnA"
   },
   "outputs": [],
   "source": [
    "tox_dict = { i : 0 for i in palabras_politicas }\n",
    "\n",
    "def variacionToxicidad(df, var=0.10, very_tox=0, key_words=palabras_politicas, tox_dict=tox_dict):\n",
    "  var_df = df.copy()\n",
    "  var_df.drop(var_df.index, inplace=True)\n",
    "\n",
    "  for idx, row in df.iterrows():\n",
    "    if very_tox == 0:\n",
    "      if row.most_toxic_party_toxicity > (row.toxic_original + var):\n",
    "        var_df = var_df.append(df.iloc[idx])\n",
    "    else:\n",
    "      if row.most_verytoxic_party_toxicity > (row.very_toxic_original + var):\n",
    "        var_df = var_df.append(df.iloc[idx])\n",
    "\n",
    "  print('Tweets: ', var_df.shape[0])\n",
    "  for p in key_words:\n",
    "    print('\\t -', p, ': ', var_df[var_df['most_toxic_party'] == p].shape[0])\n",
    "    tox_dict.update({p: tox_dict.get(p) + var_df[var_df['most_toxic_party'] == p].shape[0]})\n",
    "\n",
    "  return var_df"
   ]
  },
  {
   "cell_type": "code",
   "execution_count": 8,
   "metadata": {
    "colab": {
     "base_uri": "https://localhost:8080/",
     "height": 444
    },
    "id": "vIX9NNO-p2gr",
    "outputId": "b641f290-185a-460f-8eee-d7cf1d751549"
   },
   "outputs": [
    {
     "data": {
      "text/html": [
       "\n",
       "  <div id=\"df-4b1ab41a-916a-4bb8-93a1-125dd6215bf0\">\n",
       "    <div class=\"colab-df-container\">\n",
       "      <div>\n",
       "<style scoped>\n",
       "    .dataframe tbody tr th:only-of-type {\n",
       "        vertical-align: middle;\n",
       "    }\n",
       "\n",
       "    .dataframe tbody tr th {\n",
       "        vertical-align: top;\n",
       "    }\n",
       "\n",
       "    .dataframe thead th {\n",
       "        text-align: right;\n",
       "    }\n",
       "</style>\n",
       "<table border=\"1\" class=\"dataframe\">\n",
       "  <thead>\n",
       "    <tr style=\"text-align: right;\">\n",
       "      <th></th>\n",
       "      <th>twitter_id</th>\n",
       "      <th>original_text</th>\n",
       "      <th>slug</th>\n",
       "      <th>party_slug</th>\n",
       "      <th>comuni_toxic</th>\n",
       "      <th>comuni_very_toxic</th>\n",
       "      <th>fascis_toxic</th>\n",
       "      <th>fascis_very_toxic</th>\n",
       "      <th>most_toxic</th>\n",
       "      <th>most_very_toxic</th>\n",
       "    </tr>\n",
       "  </thead>\n",
       "  <tbody>\n",
       "    <tr>\n",
       "      <th>0</th>\n",
       "      <td>1345796272696020992</td>\n",
       "      <td>China comunista 'inunda' EEUU de espías: Los a...</td>\n",
       "      <td>juan-luis-steegmann-olmedillas</td>\n",
       "      <td>vox</td>\n",
       "      <td>0.979762</td>\n",
       "      <td>0.063240</td>\n",
       "      <td>0.987422</td>\n",
       "      <td>0.153830</td>\n",
       "      <td>fascista</td>\n",
       "      <td>fascista</td>\n",
       "    </tr>\n",
       "    <tr>\n",
       "      <th>1</th>\n",
       "      <td>1345839019293368320</td>\n",
       "      <td>La coherencia socialista: dicen una cosa y hac...</td>\n",
       "      <td>NaN</td>\n",
       "      <td>NaN</td>\n",
       "      <td>0.977812</td>\n",
       "      <td>0.013881</td>\n",
       "      <td>0.978280</td>\n",
       "      <td>0.013820</td>\n",
       "      <td>fascista</td>\n",
       "      <td>comunista</td>\n",
       "    </tr>\n",
       "    <tr>\n",
       "      <th>2</th>\n",
       "      <td>1346915765522472960</td>\n",
       "      <td>@realDonaldTrump ha dado un paso más allá y es...</td>\n",
       "      <td>german-renau-martinez</td>\n",
       "      <td>psoe</td>\n",
       "      <td>0.973739</td>\n",
       "      <td>0.015639</td>\n",
       "      <td>0.986864</td>\n",
       "      <td>0.033582</td>\n",
       "      <td>fascismo</td>\n",
       "      <td>fascismo</td>\n",
       "    </tr>\n",
       "    <tr>\n",
       "      <th>3</th>\n",
       "      <td>1346920186494951425</td>\n",
       "      <td>Fanáticos fascistas asaltan el Capitolio ampar...</td>\n",
       "      <td>zaida-cantera-de-castro</td>\n",
       "      <td>psoe</td>\n",
       "      <td>0.990875</td>\n",
       "      <td>0.996876</td>\n",
       "      <td>0.990972</td>\n",
       "      <td>0.997229</td>\n",
       "      <td>fascista</td>\n",
       "      <td>fascista</td>\n",
       "    </tr>\n",
       "    <tr>\n",
       "      <th>4</th>\n",
       "      <td>1346928196529377282</td>\n",
       "      <td>“La democracia es algo delicado que hay que pr...</td>\n",
       "      <td>lidia-guinart-moreno</td>\n",
       "      <td>psoe</td>\n",
       "      <td>0.013606</td>\n",
       "      <td>0.001135</td>\n",
       "      <td>0.035886</td>\n",
       "      <td>0.000816</td>\n",
       "      <td>fascismo</td>\n",
       "      <td>comunismo</td>\n",
       "    </tr>\n",
       "  </tbody>\n",
       "</table>\n",
       "</div>\n",
       "      <button class=\"colab-df-convert\" onclick=\"convertToInteractive('df-4b1ab41a-916a-4bb8-93a1-125dd6215bf0')\"\n",
       "              title=\"Convert this dataframe to an interactive table.\"\n",
       "              style=\"display:none;\">\n",
       "        \n",
       "  <svg xmlns=\"http://www.w3.org/2000/svg\" height=\"24px\"viewBox=\"0 0 24 24\"\n",
       "       width=\"24px\">\n",
       "    <path d=\"M0 0h24v24H0V0z\" fill=\"none\"/>\n",
       "    <path d=\"M18.56 5.44l.94 2.06.94-2.06 2.06-.94-2.06-.94-.94-2.06-.94 2.06-2.06.94zm-11 1L8.5 8.5l.94-2.06 2.06-.94-2.06-.94L8.5 2.5l-.94 2.06-2.06.94zm10 10l.94 2.06.94-2.06 2.06-.94-2.06-.94-.94-2.06-.94 2.06-2.06.94z\"/><path d=\"M17.41 7.96l-1.37-1.37c-.4-.4-.92-.59-1.43-.59-.52 0-1.04.2-1.43.59L10.3 9.45l-7.72 7.72c-.78.78-.78 2.05 0 2.83L4 21.41c.39.39.9.59 1.41.59.51 0 1.02-.2 1.41-.59l7.78-7.78 2.81-2.81c.8-.78.8-2.07 0-2.86zM5.41 20L4 18.59l7.72-7.72 1.47 1.35L5.41 20z\"/>\n",
       "  </svg>\n",
       "      </button>\n",
       "      \n",
       "  <style>\n",
       "    .colab-df-container {\n",
       "      display:flex;\n",
       "      flex-wrap:wrap;\n",
       "      gap: 12px;\n",
       "    }\n",
       "\n",
       "    .colab-df-convert {\n",
       "      background-color: #E8F0FE;\n",
       "      border: none;\n",
       "      border-radius: 50%;\n",
       "      cursor: pointer;\n",
       "      display: none;\n",
       "      fill: #1967D2;\n",
       "      height: 32px;\n",
       "      padding: 0 0 0 0;\n",
       "      width: 32px;\n",
       "    }\n",
       "\n",
       "    .colab-df-convert:hover {\n",
       "      background-color: #E2EBFA;\n",
       "      box-shadow: 0px 1px 2px rgba(60, 64, 67, 0.3), 0px 1px 3px 1px rgba(60, 64, 67, 0.15);\n",
       "      fill: #174EA6;\n",
       "    }\n",
       "\n",
       "    [theme=dark] .colab-df-convert {\n",
       "      background-color: #3B4455;\n",
       "      fill: #D2E3FC;\n",
       "    }\n",
       "\n",
       "    [theme=dark] .colab-df-convert:hover {\n",
       "      background-color: #434B5C;\n",
       "      box-shadow: 0px 1px 3px 1px rgba(0, 0, 0, 0.15);\n",
       "      filter: drop-shadow(0px 1px 2px rgba(0, 0, 0, 0.3));\n",
       "      fill: #FFFFFF;\n",
       "    }\n",
       "  </style>\n",
       "\n",
       "      <script>\n",
       "        const buttonEl =\n",
       "          document.querySelector('#df-4b1ab41a-916a-4bb8-93a1-125dd6215bf0 button.colab-df-convert');\n",
       "        buttonEl.style.display =\n",
       "          google.colab.kernel.accessAllowed ? 'block' : 'none';\n",
       "\n",
       "        async function convertToInteractive(key) {\n",
       "          const element = document.querySelector('#df-4b1ab41a-916a-4bb8-93a1-125dd6215bf0');\n",
       "          const dataTable =\n",
       "            await google.colab.kernel.invokeFunction('convertToInteractive',\n",
       "                                                     [key], {});\n",
       "          if (!dataTable) return;\n",
       "\n",
       "          const docLinkHtml = 'Like what you see? Visit the ' +\n",
       "            '<a target=\"_blank\" href=https://colab.research.google.com/notebooks/data_table.ipynb>data table notebook</a>'\n",
       "            + ' to learn more about interactive tables.';\n",
       "          element.innerHTML = '';\n",
       "          dataTable['output_type'] = 'display_data';\n",
       "          await google.colab.output.renderOutput(dataTable, element);\n",
       "          const docLink = document.createElement('div');\n",
       "          docLink.innerHTML = docLinkHtml;\n",
       "          element.appendChild(docLink);\n",
       "        }\n",
       "      </script>\n",
       "    </div>\n",
       "  </div>\n",
       "  "
      ],
      "text/plain": [
       "            twitter_id  ... most_very_toxic\n",
       "0  1345796272696020992  ...        fascista\n",
       "1  1345839019293368320  ...       comunista\n",
       "2  1346915765522472960  ...        fascismo\n",
       "3  1346920186494951425  ...        fascista\n",
       "4  1346928196529377282  ...       comunismo\n",
       "\n",
       "[5 rows x 10 columns]"
      ]
     },
     "execution_count": 8,
     "metadata": {},
     "output_type": "execute_result"
    }
   ],
   "source": [
    "tweets.head()"
   ]
  },
  {
   "cell_type": "code",
   "execution_count": 9,
   "metadata": {
    "colab": {
     "base_uri": "https://localhost:8080/"
    },
    "id": "K8F24Jd9o1o9",
    "outputId": "f948ece6-e9e8-44e9-a554-a1de5c27c2c8"
   },
   "outputs": [
    {
     "name": "stdout",
     "output_type": "stream",
     "text": [
      "Comuni toxic:  0.7499925859668524\n",
      "Comuni very toxic:  0.26402085761951927\n",
      "Fascis toxic:  0.7908503351627889\n",
      "Fascis very toxic:  0.3005550590162382\n"
     ]
    }
   ],
   "source": [
    "#Aquí vemos la toxicidad media según \"toxic\" y \"very toxic\" de tweets utilizando las distintas palabras de palabras_politicas\n",
    "print('Comuni toxic: ', np.mean(tweets['comuni_toxic']))\n",
    "print('Comuni very toxic: ', np.mean(tweets['comuni_very_toxic']))\n",
    "print('Fascis toxic: ', np.mean(tweets['fascis_toxic']))\n",
    "print('Fascis very toxic: ', np.mean(tweets['fascis_very_toxic']))\n",
    "#En general es más tóxico usar \"fascista\"/\"fascismo\" "
   ]
  },
  {
   "cell_type": "code",
   "execution_count": 10,
   "metadata": {
    "colab": {
     "base_uri": "https://localhost:8080/"
    },
    "id": "ww_MQMQ_qTKh",
    "outputId": "ceebab4f-5781-49d6-8cc4-9885b62ee022"
   },
   "outputs": [
    {
     "name": "stdout",
     "output_type": "stream",
     "text": [
      "Comunista 660\n",
      "Comunismo 350\n",
      "Fascista 1200\n",
      "Fascismo 800\n"
     ]
    }
   ],
   "source": [
    "#Aquí vemos las veces que en un tweet utilizar \"fascista\"/\"fascismo\" es más tóxico que \"comunista\"/\"comunismo\" y viceversa\n",
    "print('Comunista', np.count_nonzero(tweets[tweets['most_toxic'] == 'comunista']))\n",
    "print('Comunismo', np.count_nonzero(tweets[tweets['most_toxic'] == 'comunismo']))\n",
    "print('Fascista', np.count_nonzero(tweets[tweets['most_toxic'] == 'fascista']))\n",
    "print('Fascismo', np.count_nonzero(tweets[tweets['most_toxic'] == 'fascismo']))\n",
    "#Las palabras \"fascista\"/\"fascismo\" son más tóxicas en el 66.4% de los casos "
   ]
  }
 ],
 "metadata": {
  "colab": {
   "collapsed_sections": [],
   "name": "Sesgos-comunista-fascista.ipynb",
   "provenance": []
  },
  "kernelspec": {
   "display_name": "Python 3 (ipykernel)",
   "language": "python",
   "name": "python3"
  },
  "language_info": {
   "codemirror_mode": {
    "name": "ipython",
    "version": 3
   },
   "file_extension": ".py",
   "mimetype": "text/x-python",
   "name": "python",
   "nbconvert_exporter": "python",
   "pygments_lexer": "ipython3",
   "version": "3.9.7"
  }
 },
 "nbformat": 4,
 "nbformat_minor": 4
}
