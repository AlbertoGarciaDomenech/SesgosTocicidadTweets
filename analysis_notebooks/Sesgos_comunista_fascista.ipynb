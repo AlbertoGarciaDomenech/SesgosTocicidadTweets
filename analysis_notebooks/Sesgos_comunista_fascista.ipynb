{
 "cells": [
  {
   "cell_type": "markdown",
   "metadata": {
    "id": "KXCvPkkv0aAy"
   },
   "source": [
    "# Sesgos fascismo/comunismo\n",
    "En este notebook se analiza el csv *tweet_mods_fascism_communism.csv* según la toxicidad \"toxic\" y \"very_toxic\" del modelo *finetuned-toxic-political-tweets-es* de Newtral"
   ]
  },
  {
   "cell_type": "code",
   "execution_count": 2,
   "metadata": {
    "id": "BgWuGtT-HcU9"
   },
   "outputs": [],
   "source": [
    "import pandas as pd\n",
    "import numpy as np"
   ]
  },
  {
   "cell_type": "code",
   "execution_count": 3,
   "metadata": {
    "colab": {
     "base_uri": "https://localhost:8080/"
    },
    "id": "4EiQ-CSLJcmY",
    "outputId": "8e4c643c-bdd8-4907-9141-ee01c59b86cf"
   },
   "outputs": [],
   "source": [
    "if 'google.colab' in str(get_ipython()):\n",
    "  from google.colab import drive\n",
    "  drive.mount('/content/drive')\n",
    "  tweets = pd.read_csv('/content/drive/Shareddrives/ETICA/TweetMod_csv/tweet_mods_fascism_communism.csv')\n",
    "else:\n",
    "  tweets = pd.read_csv('../data/tweet_mods_fascism_communism.csv')"
   ]
  },
  {
   "cell_type": "code",
   "execution_count": 4,
   "metadata": {
    "id": "2aIuD02pkoA6"
   },
   "outputs": [],
   "source": [
    "palabras_politicas = [\"comunista\", \"fascista\", \"comunismo\", \"fascismo\"]"
   ]
  },
  {
   "cell_type": "code",
   "execution_count": 5,
   "metadata": {
    "id": "Oflc9jv3gjnA"
   },
   "outputs": [],
   "source": [
    "tox_dict = { i : 0 for i in palabras_politicas }\n",
    "\n",
    "def variacionToxicidad(df, var=0.10, very_tox=0, key_words=palabras_politicas, tox_dict=tox_dict):\n",
    "  var_df = df.copy()\n",
    "  var_df.drop(var_df.index, inplace=True)\n",
    "\n",
    "  for idx, row in df.iterrows():\n",
    "    if very_tox == 0:\n",
    "      if row.most_toxic_party_toxicity > (row.toxic_original + var):\n",
    "        var_df = var_df.append(df.iloc[idx])\n",
    "    else:\n",
    "      if row.most_verytoxic_party_toxicity > (row.very_toxic_original + var):\n",
    "        var_df = var_df.append(df.iloc[idx])\n",
    "\n",
    "  print('Tweets: ', var_df.shape[0])\n",
    "  for p in key_words:\n",
    "    print('\\t -', p, ': ', var_df[var_df['most_toxic_party'] == p].shape[0])\n",
    "    tox_dict.update({p: tox_dict.get(p) + var_df[var_df['most_toxic_party'] == p].shape[0]})\n",
    "\n",
    "  return var_df"
   ]
  },
  {
   "cell_type": "code",
   "execution_count": 6,
   "metadata": {
    "colab": {
     "base_uri": "https://localhost:8080/",
     "height": 444
    },
    "id": "vIX9NNO-p2gr",
    "outputId": "b641f290-185a-460f-8eee-d7cf1d751549"
   },
   "outputs": [
    {
     "data": {
      "text/html": [
       "<div>\n",
       "<style scoped>\n",
       "    .dataframe tbody tr th:only-of-type {\n",
       "        vertical-align: middle;\n",
       "    }\n",
       "\n",
       "    .dataframe tbody tr th {\n",
       "        vertical-align: top;\n",
       "    }\n",
       "\n",
       "    .dataframe thead th {\n",
       "        text-align: right;\n",
       "    }\n",
       "</style>\n",
       "<table border=\"1\" class=\"dataframe\">\n",
       "  <thead>\n",
       "    <tr style=\"text-align: right;\">\n",
       "      <th></th>\n",
       "      <th>twitter_id</th>\n",
       "      <th>original_text</th>\n",
       "      <th>slug</th>\n",
       "      <th>party_slug</th>\n",
       "      <th>comuni_toxic</th>\n",
       "      <th>comuni_very_toxic</th>\n",
       "      <th>fascis_toxic</th>\n",
       "      <th>fascis_very_toxic</th>\n",
       "      <th>most_toxic</th>\n",
       "      <th>most_very_toxic</th>\n",
       "    </tr>\n",
       "  </thead>\n",
       "  <tbody>\n",
       "    <tr>\n",
       "      <th>0</th>\n",
       "      <td>1345796272696020992</td>\n",
       "      <td>China comunista 'inunda' EEUU de espías: Los a...</td>\n",
       "      <td>juan-luis-steegmann-olmedillas</td>\n",
       "      <td>vox</td>\n",
       "      <td>0.979762</td>\n",
       "      <td>0.063240</td>\n",
       "      <td>0.987422</td>\n",
       "      <td>0.153830</td>\n",
       "      <td>fascista</td>\n",
       "      <td>fascista</td>\n",
       "    </tr>\n",
       "    <tr>\n",
       "      <th>1</th>\n",
       "      <td>1345839019293368320</td>\n",
       "      <td>La coherencia socialista: dicen una cosa y hac...</td>\n",
       "      <td>NaN</td>\n",
       "      <td>NaN</td>\n",
       "      <td>0.977812</td>\n",
       "      <td>0.013881</td>\n",
       "      <td>0.978280</td>\n",
       "      <td>0.013820</td>\n",
       "      <td>fascista</td>\n",
       "      <td>comunista</td>\n",
       "    </tr>\n",
       "    <tr>\n",
       "      <th>2</th>\n",
       "      <td>1346915765522472960</td>\n",
       "      <td>@realDonaldTrump ha dado un paso más allá y es...</td>\n",
       "      <td>german-renau-martinez</td>\n",
       "      <td>psoe</td>\n",
       "      <td>0.973739</td>\n",
       "      <td>0.015639</td>\n",
       "      <td>0.986864</td>\n",
       "      <td>0.033582</td>\n",
       "      <td>fascismo</td>\n",
       "      <td>fascismo</td>\n",
       "    </tr>\n",
       "    <tr>\n",
       "      <th>3</th>\n",
       "      <td>1346920186494951425</td>\n",
       "      <td>Fanáticos fascistas asaltan el Capitolio ampar...</td>\n",
       "      <td>zaida-cantera-de-castro</td>\n",
       "      <td>psoe</td>\n",
       "      <td>0.990875</td>\n",
       "      <td>0.996876</td>\n",
       "      <td>0.990972</td>\n",
       "      <td>0.997229</td>\n",
       "      <td>fascista</td>\n",
       "      <td>fascista</td>\n",
       "    </tr>\n",
       "    <tr>\n",
       "      <th>4</th>\n",
       "      <td>1346928196529377282</td>\n",
       "      <td>“La democracia es algo delicado que hay que pr...</td>\n",
       "      <td>lidia-guinart-moreno</td>\n",
       "      <td>psoe</td>\n",
       "      <td>0.013606</td>\n",
       "      <td>0.001135</td>\n",
       "      <td>0.035886</td>\n",
       "      <td>0.000816</td>\n",
       "      <td>fascismo</td>\n",
       "      <td>comunismo</td>\n",
       "    </tr>\n",
       "  </tbody>\n",
       "</table>\n",
       "</div>"
      ],
      "text/plain": [
       "            twitter_id                                      original_text  \\\n",
       "0  1345796272696020992  China comunista 'inunda' EEUU de espías: Los a...   \n",
       "1  1345839019293368320  La coherencia socialista: dicen una cosa y hac...   \n",
       "2  1346915765522472960  @realDonaldTrump ha dado un paso más allá y es...   \n",
       "3  1346920186494951425  Fanáticos fascistas asaltan el Capitolio ampar...   \n",
       "4  1346928196529377282  “La democracia es algo delicado que hay que pr...   \n",
       "\n",
       "                             slug party_slug  comuni_toxic  comuni_very_toxic  \\\n",
       "0  juan-luis-steegmann-olmedillas        vox      0.979762           0.063240   \n",
       "1                             NaN        NaN      0.977812           0.013881   \n",
       "2           german-renau-martinez       psoe      0.973739           0.015639   \n",
       "3         zaida-cantera-de-castro       psoe      0.990875           0.996876   \n",
       "4            lidia-guinart-moreno       psoe      0.013606           0.001135   \n",
       "\n",
       "   fascis_toxic  fascis_very_toxic most_toxic most_very_toxic  \n",
       "0      0.987422           0.153830   fascista        fascista  \n",
       "1      0.978280           0.013820   fascista       comunista  \n",
       "2      0.986864           0.033582   fascismo        fascismo  \n",
       "3      0.990972           0.997229   fascista        fascista  \n",
       "4      0.035886           0.000816   fascismo       comunismo  "
      ]
     },
     "execution_count": 6,
     "metadata": {},
     "output_type": "execute_result"
    }
   ],
   "source": [
    "tweets.head()"
   ]
  },
  {
   "cell_type": "code",
   "execution_count": 12,
   "metadata": {
    "colab": {
     "base_uri": "https://localhost:8080/"
    },
    "id": "K8F24Jd9o1o9",
    "outputId": "f948ece6-e9e8-44e9-a554-a1de5c27c2c8"
   },
   "outputs": [
    {
     "name": "stdout",
     "output_type": "stream",
     "text": [
      "Toxicidad media de cada palabra:\n",
      "\tComuni toxic:  0.7499925859668524\n",
      "\tComuni very toxic:  0.26402085761951927\n",
      "\tFascis toxic:  0.7908503351627889\n",
      "\tFascis very toxic:  0.3005550590162382\n"
     ]
    }
   ],
   "source": [
    "#Aquí vemos la toxicidad media según \"toxic\" y \"very toxic\" de tweets utilizando las distintas palabras de palabras_politicas\n",
    "\n",
    "print('Toxicidad media de cada palabra:')\n",
    "print('\\tComuni toxic: ', np.mean(tweets['comuni_toxic']))\n",
    "print('\\tComuni very toxic: ', np.mean(tweets['comuni_very_toxic']))\n",
    "print('\\tFascis toxic: ', np.mean(tweets['fascis_toxic']))\n",
    "print('\\tFascis very toxic: ', np.mean(tweets['fascis_very_toxic']))\n",
    "\n",
    "#En general es más tóxico usar \"fascista\"/\"fascismo\" "
   ]
  },
  {
   "cell_type": "code",
   "execution_count": 14,
   "metadata": {
    "colab": {
     "base_uri": "https://localhost:8080/"
    },
    "id": "ww_MQMQ_qTKh",
    "outputId": "ceebab4f-5781-49d6-8cc4-9885b62ee022"
   },
   "outputs": [
    {
     "name": "stdout",
     "output_type": "stream",
     "text": [
      "Veces en las que fascista/fascismo es más tóxico que comunista/comunismo y viceversa:\n",
      "\tComunista 660\n",
      "\tComunismo 350\n",
      "\tFascista 1200\n",
      "\tFascismo 800\n"
     ]
    }
   ],
   "source": [
    "#Aquí vemos las veces que en un tweet utilizar \"fascista\"/\"fascismo\" es más tóxico que \"comunista\"/\"comunismo\" y viceversa\n",
    "\n",
    "print('Veces en las que fascista/fascismo es más tóxico que comunista/comunismo y viceversa:')\n",
    "print('\\tComunista', np.count_nonzero(tweets[tweets['most_toxic'] == 'comunista']))\n",
    "print('\\tComunismo', np.count_nonzero(tweets[tweets['most_toxic'] == 'comunismo']))\n",
    "print('\\tFascista', np.count_nonzero(tweets[tweets['most_toxic'] == 'fascista']))\n",
    "print('\\tFascismo', np.count_nonzero(tweets[tweets['most_toxic'] == 'fascismo']))\n",
    "\n",
    "#Las palabras \"fascista\"/\"fascismo\" son más tóxicas en el 66.4% de los casos "
   ]
  }
 ],
 "metadata": {
  "colab": {
   "collapsed_sections": [],
   "name": "Sesgos-comunista-fascista.ipynb",
   "provenance": []
  },
  "kernelspec": {
   "display_name": "Python 3 (ipykernel)",
   "language": "python",
   "name": "python3"
  },
  "language_info": {
   "codemirror_mode": {
    "name": "ipython",
    "version": 3
   },
   "file_extension": ".py",
   "mimetype": "text/x-python",
   "name": "python",
   "nbconvert_exporter": "python",
   "pygments_lexer": "ipython3",
   "version": "3.9.7"
  }
 },
 "nbformat": 4,
 "nbformat_minor": 4
}
