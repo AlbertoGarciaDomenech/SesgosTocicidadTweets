{
  "nbformat": 4,
  "nbformat_minor": 0,
  "metadata": {
    "colab": {
      "name": "Sesgos-tildes.ipynb",
      "provenance": []
    },
    "kernelspec": {
      "name": "python3",
      "display_name": "Python 3"
    },
    "language_info": {
      "name": "python"
    }
  },
  "cells": [
    {
      "cell_type": "markdown",
      "source": [
        "#Sesgos de tweets con/sin tildes"
      ],
      "metadata": {
        "id": "Y37nT2Nx7lKk"
      }
    },
    {
      "cell_type": "code",
      "execution_count": null,
      "metadata": {
        "id": "BgWuGtT-HcU9"
      },
      "outputs": [],
      "source": [
        "import pandas as pd\n",
        "import numpy as np"
      ]
    },
    {
      "cell_type": "code",
      "source": [
        "from google.colab import drive\n",
        "drive.mount('/content/drive')"
      ],
      "metadata": {
        "colab": {
          "base_uri": "https://localhost:8080/"
        },
        "id": "4EiQ-CSLJcmY",
        "outputId": "f0146b8f-94ea-49b4-a311-7e67cd356be0"
      },
      "execution_count": null,
      "outputs": [
        {
          "output_type": "stream",
          "name": "stdout",
          "text": [
            "Drive already mounted at /content/drive; to attempt to forcibly remount, call drive.mount(\"/content/drive\", force_remount=True).\n"
          ]
        }
      ]
    },
    {
      "cell_type": "code",
      "source": [
        "tweets = pd.read_csv('/content/drive/Shareddrives/ETICA/TweetMod_csv/tweet_mods_accents.csv')"
      ],
      "metadata": {
        "id": "Z951Lx_kJkp8"
      },
      "execution_count": null,
      "outputs": []
    },
    {
      "cell_type": "markdown",
      "source": [
        "##Análisis de todos los datos"
      ],
      "metadata": {
        "id": "KjVI4ICmGjiD"
      }
    },
    {
      "cell_type": "code",
      "source": [
        "tweets.head()"
      ],
      "metadata": {
        "colab": {
          "base_uri": "https://localhost:8080/",
          "height": 528
        },
        "id": "vIX9NNO-p2gr",
        "outputId": "8b4b8534-a93b-4f7b-fe61-cb29ff4d6b6c"
      },
      "execution_count": null,
      "outputs": [
        {
          "output_type": "execute_result",
          "data": {
            "text/html": [
              "<div>\n",
              "<style scoped>\n",
              "    .dataframe tbody tr th:only-of-type {\n",
              "        vertical-align: middle;\n",
              "    }\n",
              "\n",
              "    .dataframe tbody tr th {\n",
              "        vertical-align: top;\n",
              "    }\n",
              "\n",
              "    .dataframe thead th {\n",
              "        text-align: right;\n",
              "    }\n",
              "</style>\n",
              "<table border=\"1\" class=\"dataframe\">\n",
              "  <thead>\n",
              "    <tr style=\"text-align: right;\">\n",
              "      <th></th>\n",
              "      <th>twitter_id</th>\n",
              "      <th>original_text</th>\n",
              "      <th>slug</th>\n",
              "      <th>party_slug</th>\n",
              "      <th>toxic_original</th>\n",
              "      <th>very_toxic_original</th>\n",
              "      <th>toxic_noaccent</th>\n",
              "      <th>very_toxic_noaccent</th>\n",
              "      <th>most_toxic_grammar</th>\n",
              "      <th>most_verytoxic_grammar</th>\n",
              "    </tr>\n",
              "  </thead>\n",
              "  <tbody>\n",
              "    <tr>\n",
              "      <th>0</th>\n",
              "      <td>1344934218145669120</td>\n",
              "      <td>Llegará un momento que los miembros de este Go...</td>\n",
              "      <td>juan-luis-steegmann-olmedillas</td>\n",
              "      <td>vox</td>\n",
              "      <td>0.995289</td>\n",
              "      <td>0.996132</td>\n",
              "      <td>0.996114</td>\n",
              "      <td>0.993316</td>\n",
              "      <td>sin tildes</td>\n",
              "      <td>con tildes</td>\n",
              "    </tr>\n",
              "    <tr>\n",
              "      <th>1</th>\n",
              "      <td>1344940715072221184</td>\n",
              "      <td>La frase “ Falsa sensación de seguridad” viene...</td>\n",
              "      <td>juan-luis-steegmann-olmedillas</td>\n",
              "      <td>vox</td>\n",
              "      <td>0.987947</td>\n",
              "      <td>0.056416</td>\n",
              "      <td>0.986203</td>\n",
              "      <td>0.040903</td>\n",
              "      <td>con tildes</td>\n",
              "      <td>con tildes</td>\n",
              "    </tr>\n",
              "    <tr>\n",
              "      <th>2</th>\n",
              "      <td>1344945712128266240</td>\n",
              "      <td>El Comisario político del Gobierno no descansa...</td>\n",
              "      <td>macarena-montesinos-de-miguel</td>\n",
              "      <td>partido-popular</td>\n",
              "      <td>0.995368</td>\n",
              "      <td>0.995748</td>\n",
              "      <td>0.996026</td>\n",
              "      <td>0.992559</td>\n",
              "      <td>sin tildes</td>\n",
              "      <td>con tildes</td>\n",
              "    </tr>\n",
              "    <tr>\n",
              "      <th>3</th>\n",
              "      <td>1344962035277320193</td>\n",
              "      <td>Desde @CiudadanosCs presentamos una enmienda p...</td>\n",
              "      <td>NaN</td>\n",
              "      <td>NaN</td>\n",
              "      <td>0.016391</td>\n",
              "      <td>0.000838</td>\n",
              "      <td>0.017184</td>\n",
              "      <td>0.000819</td>\n",
              "      <td>sin tildes</td>\n",
              "      <td>con tildes</td>\n",
              "    </tr>\n",
              "    <tr>\n",
              "      <th>4</th>\n",
              "      <td>1344967124264116230</td>\n",
              "      <td>Y que mejor forma de dar la bienvenida al 2021...</td>\n",
              "      <td>maria-angeles-marra-dominguez</td>\n",
              "      <td>psoe</td>\n",
              "      <td>0.004446</td>\n",
              "      <td>0.002959</td>\n",
              "      <td>0.004472</td>\n",
              "      <td>0.002840</td>\n",
              "      <td>sin tildes</td>\n",
              "      <td>con tildes</td>\n",
              "    </tr>\n",
              "    <tr>\n",
              "      <th>...</th>\n",
              "      <td>...</td>\n",
              "      <td>...</td>\n",
              "      <td>...</td>\n",
              "      <td>...</td>\n",
              "      <td>...</td>\n",
              "      <td>...</td>\n",
              "      <td>...</td>\n",
              "      <td>...</td>\n",
              "      <td>...</td>\n",
              "      <td>...</td>\n",
              "    </tr>\n",
              "    <tr>\n",
              "      <th>12043</th>\n",
              "      <td>1453792553426370560</td>\n",
              "      <td>Todo mi apoyo y cariño a José y Toño, por el r...</td>\n",
              "      <td>cesar-joaquin-ramos-esteban</td>\n",
              "      <td>psoe</td>\n",
              "      <td>0.029369</td>\n",
              "      <td>0.001727</td>\n",
              "      <td>0.165557</td>\n",
              "      <td>0.003104</td>\n",
              "      <td>sin tildes</td>\n",
              "      <td>sin tildes</td>\n",
              "    </tr>\n",
              "    <tr>\n",
              "      <th>12044</th>\n",
              "      <td>1452530366552571908</td>\n",
              "      <td>Lo de la cigarra y la hormiga está bien para i...</td>\n",
              "      <td>hector-illueca-ballester</td>\n",
              "      <td>sin-partido</td>\n",
              "      <td>0.020292</td>\n",
              "      <td>0.000959</td>\n",
              "      <td>0.030384</td>\n",
              "      <td>0.000924</td>\n",
              "      <td>sin tildes</td>\n",
              "      <td>con tildes</td>\n",
              "    </tr>\n",
              "    <tr>\n",
              "      <th>12045</th>\n",
              "      <td>1451426539023835138</td>\n",
              "      <td>Es terrible que esto haya podido volver a pasa...</td>\n",
              "      <td>guillermo-diaz-gomez</td>\n",
              "      <td>ciudadanos</td>\n",
              "      <td>0.044044</td>\n",
              "      <td>0.001894</td>\n",
              "      <td>0.070516</td>\n",
              "      <td>0.002219</td>\n",
              "      <td>sin tildes</td>\n",
              "      <td>sin tildes</td>\n",
              "    </tr>\n",
              "    <tr>\n",
              "      <th>12046</th>\n",
              "      <td>1451875806549004288</td>\n",
              "      <td>El cultivo de legumbres no solo reducen los ga...</td>\n",
              "      <td>daniel-senderos-oraa</td>\n",
              "      <td>psoe</td>\n",
              "      <td>0.004111</td>\n",
              "      <td>0.003039</td>\n",
              "      <td>0.004126</td>\n",
              "      <td>0.003025</td>\n",
              "      <td>sin tildes</td>\n",
              "      <td>con tildes</td>\n",
              "    </tr>\n",
              "    <tr>\n",
              "      <th>12047</th>\n",
              "      <td>1450389991595646976</td>\n",
              "      <td>He asistido al Foro Cáncer de Mama de la @lara...</td>\n",
              "      <td>pablo-casado-blanco</td>\n",
              "      <td>partido-popular</td>\n",
              "      <td>0.003865</td>\n",
              "      <td>0.002408</td>\n",
              "      <td>0.004334</td>\n",
              "      <td>0.002157</td>\n",
              "      <td>sin tildes</td>\n",
              "      <td>con tildes</td>\n",
              "    </tr>\n",
              "  </tbody>\n",
              "</table>\n",
              "<p>12048 rows × 10 columns</p>\n",
              "</div>"
            ],
            "text/plain": [
              "                twitter_id  ... most_verytoxic_grammar\n",
              "0      1344934218145669120  ...             con tildes\n",
              "1      1344940715072221184  ...             con tildes\n",
              "2      1344945712128266240  ...             con tildes\n",
              "3      1344962035277320193  ...             con tildes\n",
              "4      1344967124264116230  ...             con tildes\n",
              "...                    ...  ...                    ...\n",
              "12043  1453792553426370560  ...             sin tildes\n",
              "12044  1452530366552571908  ...             con tildes\n",
              "12045  1451426539023835138  ...             sin tildes\n",
              "12046  1451875806549004288  ...             con tildes\n",
              "12047  1450389991595646976  ...             con tildes\n",
              "\n",
              "[12048 rows x 10 columns]"
            ]
          },
          "metadata": {},
          "execution_count": 51
        }
      ]
    },
    {
      "cell_type": "code",
      "source": [
        "print('Con tildes toxic: ', np.mean(tweets['toxic_original']))\n",
        "print('Con tildes very toxic: ', np.mean(tweets['very_toxic_original']))\n",
        "print('Sin tildes toxic: ', np.mean(tweets['toxic_noaccent']))\n",
        "print('Sin tildes very toxic: ', np.mean(tweets['very_toxic_noaccent']))\n",
        "#Parece que en cuanto al valor \"toxic\", son más tóxicos tweets sin tildes, pero vemos el caso contrario con \"very toxic\". \n",
        "#Aun así, parece que las medias están bastante igualadas."
      ],
      "metadata": {
        "colab": {
          "base_uri": "https://localhost:8080/"
        },
        "id": "K8F24Jd9o1o9",
        "outputId": "929e471a-933b-44c0-c4ef-7729a44030da"
      },
      "execution_count": null,
      "outputs": [
        {
          "output_type": "stream",
          "name": "stdout",
          "text": [
            "Con tildes toxic:  0.29571437127105915\n",
            "Con tildes very toxic:  0.08084586595985283\n",
            "Sin tildes toxic:  0.3086192665362216\n",
            "Sin tildes very toxic:  0.0808059988280046\n"
          ]
        }
      ]
    },
    {
      "cell_type": "code",
      "source": [
        "#Aquí calculamos las veces que un tweet es más tóxico con tildes que sin tildes y viceversa\n",
        "print('Toxic con tildes', np.count_nonzero(tweets[tweets['most_toxic_grammar'] == 'con tildes']))\n",
        "print('Toxic sin tildes', np.count_nonzero(tweets[tweets['most_toxic_grammar'] == 'sin tildes']))\n",
        "print('Very toxic con tildes', np.count_nonzero(tweets[tweets['most_verytoxic_grammar'] == 'con tildes']))\n",
        "print('Very toxic sin tildes', np.count_nonzero(tweets[tweets['most_verytoxic_grammar'] == 'sin tildes']))"
      ],
      "metadata": {
        "colab": {
          "base_uri": "https://localhost:8080/"
        },
        "id": "ww_MQMQ_qTKh",
        "outputId": "a0b54efd-a7ad-4009-c97b-4709bfa48e77"
      },
      "execution_count": null,
      "outputs": [
        {
          "output_type": "stream",
          "name": "stdout",
          "text": [
            "Toxic con tildes 46490\n",
            "Toxic sin tildes 73980\n",
            "Very toxic con tildes 76300\n",
            "Very toxic sin tildes 44180\n"
          ]
        }
      ]
    },
    {
      "cell_type": "markdown",
      "source": [
        "##Análisis de datos acotados\n",
        "Ahora vamos a analizar tweets donde la ausencia de tildes cambia de manera significante la toxicidad. Solo miraremos tweets donde la diferencia sea superior a 10."
      ],
      "metadata": {
        "id": "nRUCptVwGhSw"
      }
    },
    {
      "cell_type": "code",
      "source": [
        "column_names = []\n",
        "for i in tweets:\n",
        "  column_names.append(i)\n",
        "tweets_filtered = pd.DataFrame(columns = column_names)"
      ],
      "metadata": {
        "id": "4uoN7Lx6DZkA"
      },
      "execution_count": null,
      "outputs": []
    },
    {
      "cell_type": "code",
      "source": [
        "for idx, row in tweets.iterrows():\n",
        "  if abs(row.toxic_original - row.toxic_noaccent) > 0.10:\n",
        "    tweets_filtered = tweets_filtered.append(row)"
      ],
      "metadata": {
        "id": "1diO5gvMCeQa"
      },
      "execution_count": null,
      "outputs": []
    },
    {
      "cell_type": "code",
      "source": [
        "tweets_filtered"
      ],
      "metadata": {
        "colab": {
          "base_uri": "https://localhost:8080/",
          "height": 580
        },
        "id": "xk5B_0GKFxzx",
        "outputId": "b41e207b-583c-4558-f3cb-e11f880f9461"
      },
      "execution_count": null,
      "outputs": [
        {
          "output_type": "execute_result",
          "data": {
            "text/html": [
              "<div>\n",
              "<style scoped>\n",
              "    .dataframe tbody tr th:only-of-type {\n",
              "        vertical-align: middle;\n",
              "    }\n",
              "\n",
              "    .dataframe tbody tr th {\n",
              "        vertical-align: top;\n",
              "    }\n",
              "\n",
              "    .dataframe thead th {\n",
              "        text-align: right;\n",
              "    }\n",
              "</style>\n",
              "<table border=\"1\" class=\"dataframe\">\n",
              "  <thead>\n",
              "    <tr style=\"text-align: right;\">\n",
              "      <th></th>\n",
              "      <th>twitter_id</th>\n",
              "      <th>original_text</th>\n",
              "      <th>slug</th>\n",
              "      <th>party_slug</th>\n",
              "      <th>toxic_original</th>\n",
              "      <th>very_toxic_original</th>\n",
              "      <th>toxic_noaccent</th>\n",
              "      <th>very_toxic_noaccent</th>\n",
              "      <th>most_toxic_grammar</th>\n",
              "      <th>most_verytoxic_grammar</th>\n",
              "    </tr>\n",
              "  </thead>\n",
              "  <tbody>\n",
              "    <tr>\n",
              "      <th>5</th>\n",
              "      <td>1344978091807035392</td>\n",
              "      <td>Un año de oposición: a la peor pandemia PP y V...</td>\n",
              "      <td>maria-angeles-marra-dominguez</td>\n",
              "      <td>psoe</td>\n",
              "      <td>0.525792</td>\n",
              "      <td>0.001039</td>\n",
              "      <td>0.918449</td>\n",
              "      <td>0.003510</td>\n",
              "      <td>sin tildes</td>\n",
              "      <td>sin tildes</td>\n",
              "    </tr>\n",
              "    <tr>\n",
              "      <th>14</th>\n",
              "      <td>1345133701643051009</td>\n",
              "      <td>Seguramente no esté ni un 10% de acuerdo con l...</td>\n",
              "      <td>maria-gloria-elizo-serrano</td>\n",
              "      <td>podemos</td>\n",
              "      <td>0.005645</td>\n",
              "      <td>0.002194</td>\n",
              "      <td>0.138315</td>\n",
              "      <td>0.000953</td>\n",
              "      <td>sin tildes</td>\n",
              "      <td>con tildes</td>\n",
              "    </tr>\n",
              "    <tr>\n",
              "      <th>24</th>\n",
              "      <td>1345462766212165632</td>\n",
              "      <td>La rapidez del contagio de la cepa británica e...</td>\n",
              "      <td>NaN</td>\n",
              "      <td>NaN</td>\n",
              "      <td>0.506995</td>\n",
              "      <td>0.001616</td>\n",
              "      <td>0.265326</td>\n",
              "      <td>0.001083</td>\n",
              "      <td>con tildes</td>\n",
              "      <td>con tildes</td>\n",
              "    </tr>\n",
              "    <tr>\n",
              "      <th>34</th>\n",
              "      <td>1345690120033349645</td>\n",
              "      <td>¿ Qué está pasando?\\n\\n➡️ Que los españoles ya...</td>\n",
              "      <td>javier-merino-martinez</td>\n",
              "      <td>partido-popular</td>\n",
              "      <td>0.316567</td>\n",
              "      <td>0.000900</td>\n",
              "      <td>0.968961</td>\n",
              "      <td>0.009733</td>\n",
              "      <td>sin tildes</td>\n",
              "      <td>sin tildes</td>\n",
              "    </tr>\n",
              "    <tr>\n",
              "      <th>44</th>\n",
              "      <td>1346018260161077248</td>\n",
              "      <td>Desde el 1 de enero están en vigor los presupu...</td>\n",
              "      <td>belen-hoyo-julia</td>\n",
              "      <td>partido-popular</td>\n",
              "      <td>0.288427</td>\n",
              "      <td>0.000770</td>\n",
              "      <td>0.025317</td>\n",
              "      <td>0.000835</td>\n",
              "      <td>con tildes</td>\n",
              "      <td>sin tildes</td>\n",
              "    </tr>\n",
              "    <tr>\n",
              "      <th>...</th>\n",
              "      <td>...</td>\n",
              "      <td>...</td>\n",
              "      <td>...</td>\n",
              "      <td>...</td>\n",
              "      <td>...</td>\n",
              "      <td>...</td>\n",
              "      <td>...</td>\n",
              "      <td>...</td>\n",
              "      <td>...</td>\n",
              "      <td>...</td>\n",
              "    </tr>\n",
              "    <tr>\n",
              "      <th>11994</th>\n",
              "      <td>1453014574450479112</td>\n",
              "      <td>En la Comisión de Interior, hoy deconstruimos ...</td>\n",
              "      <td>ana-belen-vazquez-blanco</td>\n",
              "      <td>partido-popular</td>\n",
              "      <td>0.968546</td>\n",
              "      <td>0.011261</td>\n",
              "      <td>0.647917</td>\n",
              "      <td>0.001279</td>\n",
              "      <td>con tildes</td>\n",
              "      <td>con tildes</td>\n",
              "    </tr>\n",
              "    <tr>\n",
              "      <th>12011</th>\n",
              "      <td>1452567812501905410</td>\n",
              "      <td>Los españoles lo tienen claro: @pablocasado_ e...</td>\n",
              "      <td>NaN</td>\n",
              "      <td>NaN</td>\n",
              "      <td>0.060123</td>\n",
              "      <td>0.000780</td>\n",
              "      <td>0.187017</td>\n",
              "      <td>0.000939</td>\n",
              "      <td>sin tildes</td>\n",
              "      <td>sin tildes</td>\n",
              "    </tr>\n",
              "    <tr>\n",
              "      <th>12023</th>\n",
              "      <td>1450521151982157828</td>\n",
              "      <td>Los jóvenes migrantes suelen ser noticia, solo...</td>\n",
              "      <td>jaume-asens-llodra</td>\n",
              "      <td>catalunya-en-comu</td>\n",
              "      <td>0.781455</td>\n",
              "      <td>0.002105</td>\n",
              "      <td>0.664364</td>\n",
              "      <td>0.001804</td>\n",
              "      <td>con tildes</td>\n",
              "      <td>con tildes</td>\n",
              "    </tr>\n",
              "    <tr>\n",
              "      <th>12039</th>\n",
              "      <td>1453748843078631445</td>\n",
              "      <td>🔵 Entre toda la desgracia que supone lo que es...</td>\n",
              "      <td>oscar-clavell-lopez</td>\n",
              "      <td>partido-popular</td>\n",
              "      <td>0.080677</td>\n",
              "      <td>0.000764</td>\n",
              "      <td>0.205307</td>\n",
              "      <td>0.000941</td>\n",
              "      <td>sin tildes</td>\n",
              "      <td>sin tildes</td>\n",
              "    </tr>\n",
              "    <tr>\n",
              "      <th>12043</th>\n",
              "      <td>1453792553426370560</td>\n",
              "      <td>Todo mi apoyo y cariño a José y Toño, por el r...</td>\n",
              "      <td>cesar-joaquin-ramos-esteban</td>\n",
              "      <td>psoe</td>\n",
              "      <td>0.029369</td>\n",
              "      <td>0.001727</td>\n",
              "      <td>0.165557</td>\n",
              "      <td>0.003104</td>\n",
              "      <td>sin tildes</td>\n",
              "      <td>sin tildes</td>\n",
              "    </tr>\n",
              "  </tbody>\n",
              "</table>\n",
              "<p>1149 rows × 10 columns</p>\n",
              "</div>"
            ],
            "text/plain": [
              "                twitter_id  ... most_verytoxic_grammar\n",
              "5      1344978091807035392  ...             sin tildes\n",
              "14     1345133701643051009  ...             con tildes\n",
              "24     1345462766212165632  ...             con tildes\n",
              "34     1345690120033349645  ...             sin tildes\n",
              "44     1346018260161077248  ...             sin tildes\n",
              "...                    ...  ...                    ...\n",
              "11994  1453014574450479112  ...             con tildes\n",
              "12011  1452567812501905410  ...             sin tildes\n",
              "12023  1450521151982157828  ...             con tildes\n",
              "12039  1453748843078631445  ...             sin tildes\n",
              "12043  1453792553426370560  ...             sin tildes\n",
              "\n",
              "[1149 rows x 10 columns]"
            ]
          },
          "metadata": {},
          "execution_count": 50
        }
      ]
    },
    {
      "cell_type": "code",
      "source": [
        "print('Con tildes toxic: ', np.mean(tweets_filtered['toxic_original']))\n",
        "print('Con tildes very toxic: ', np.mean(tweets_filtered['very_toxic_original']))\n",
        "print('Sin tildes toxic: ', np.mean(tweets_filtered['toxic_noaccent']))\n",
        "print('Sin tildes very toxic: ', np.mean(tweets_filtered['very_toxic_noaccent'])\n",
        "#Aquí tanto en \"toxic\" y en \"very toxic\" vemos que la toxicidad es más alta en tweets sin tildes"
      ],
      "metadata": {
        "colab": {
          "base_uri": "https://localhost:8080/"
        },
        "outputId": "3c0a7dec-483f-491d-aec8-46b9ca18c670",
        "id": "OTQQhpXwGQUI"
      },
      "execution_count": null,
      "outputs": [
        {
          "output_type": "stream",
          "name": "stdout",
          "text": [
            "Con tildes toxic:  0.4201075223428939\n",
            "Con tildes very toxic:  0.0031716618928559824\n",
            "Sin tildes toxic:  0.5417214262054454\n",
            "Sin tildes very toxic:  0.006511807569271818\n"
          ]
        }
      ]
    },
    {
      "cell_type": "code",
      "source": [
        "print('Toxic con tildes', np.count_nonzero(tweets_filtered[tweets_filtered['most_toxic_grammar'] == 'con tildes']))\n",
        "print('Toxic sin tildes', np.count_nonzero(tweets_filtered[tweets_filtered['most_toxic_grammar'] == 'sin tildes']))\n",
        "print('Very toxic con tildes', np.count_nonzero(tweets_filtered[tweets_filtered['most_verytoxic_grammar'] == 'con tildes']))\n",
        "print('Very toxic sin tildes', np.count_nonzero(tweets_filtered[tweets_filtered['most_verytoxic_grammar'] == 'sin tildes']))\n",
        "#Parece que cuando solo miramos casos donde la diferencia de toxicidad es significante, es más tóxico en cuanto a ambos valores del modelo no usar\n",
        "# tildes, y está más desigualado, favoreciendo más a los tweets con tildes."
      ],
      "metadata": {
        "colab": {
          "base_uri": "https://localhost:8080/"
        },
        "outputId": "bcf6a7d5-c010-4e64-b31f-e6b8ee7f504c",
        "id": "RzJEkdnRGQUN"
      },
      "execution_count": null,
      "outputs": [
        {
          "output_type": "stream",
          "name": "stdout",
          "text": [
            "Toxic con tildes 3930\n",
            "Toxic sin tildes 7560\n",
            "Very toxic con tildes 4730\n",
            "Very toxic sin tildes 6760\n"
          ]
        }
      ]
    }
  ]
}