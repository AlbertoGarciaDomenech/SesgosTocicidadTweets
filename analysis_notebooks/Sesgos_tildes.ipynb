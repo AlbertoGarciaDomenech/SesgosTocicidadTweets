{
 "cells": [
  {
   "cell_type": "markdown",
   "metadata": {
    "id": "Y37nT2Nx7lKk"
   },
   "source": [
    "# Sesgos de tweets con/sin tildes"
   ]
  },
  {
   "cell_type": "code",
   "execution_count": 1,
   "metadata": {
    "id": "BgWuGtT-HcU9"
   },
   "outputs": [],
   "source": [
    "import pandas as pd\n",
    "import numpy as np"
   ]
  },
  {
   "cell_type": "code",
   "execution_count": 2,
   "metadata": {
    "colab": {
     "base_uri": "https://localhost:8080/"
    },
    "id": "4EiQ-CSLJcmY",
    "outputId": "f0146b8f-94ea-49b4-a311-7e67cd356be0"
   },
   "outputs": [],
   "source": [
    "if 'google.colab' in str(get_ipython()):\n",
    "  from google.colab import drive\n",
    "  drive.mount('/content/drive')\n",
    "  tweets = pd.read_csv('/content/drive/Shareddrives/ETICA/TweetMod_csv/tweet_mods_accents.csv')\n",
    "else:\n",
    "  tweets = pd.read_csv('../data/tweet_mods_accents.csv')"
   ]
  },
  {
   "cell_type": "markdown",
   "metadata": {
    "id": "KjVI4ICmGjiD"
   },
   "source": [
    "## Análisis de todos los datos"
   ]
  },
  {
   "cell_type": "code",
   "execution_count": 3,
   "metadata": {
    "colab": {
     "base_uri": "https://localhost:8080/",
     "height": 528
    },
    "id": "vIX9NNO-p2gr",
    "outputId": "8b4b8534-a93b-4f7b-fe61-cb29ff4d6b6c"
   },
   "outputs": [
    {
     "data": {
      "text/html": [
       "<div>\n",
       "<style scoped>\n",
       "    .dataframe tbody tr th:only-of-type {\n",
       "        vertical-align: middle;\n",
       "    }\n",
       "\n",
       "    .dataframe tbody tr th {\n",
       "        vertical-align: top;\n",
       "    }\n",
       "\n",
       "    .dataframe thead th {\n",
       "        text-align: right;\n",
       "    }\n",
       "</style>\n",
       "<table border=\"1\" class=\"dataframe\">\n",
       "  <thead>\n",
       "    <tr style=\"text-align: right;\">\n",
       "      <th></th>\n",
       "      <th>twitter_id</th>\n",
       "      <th>original_text</th>\n",
       "      <th>slug</th>\n",
       "      <th>party_slug</th>\n",
       "      <th>toxic_original</th>\n",
       "      <th>very_toxic_original</th>\n",
       "      <th>toxic_noaccent</th>\n",
       "      <th>very_toxic_noaccent</th>\n",
       "      <th>most_toxic_grammar</th>\n",
       "      <th>most_verytoxic_grammar</th>\n",
       "    </tr>\n",
       "  </thead>\n",
       "  <tbody>\n",
       "    <tr>\n",
       "      <th>0</th>\n",
       "      <td>1344934218145669120</td>\n",
       "      <td>Llegará un momento que los miembros de este Go...</td>\n",
       "      <td>juan-luis-steegmann-olmedillas</td>\n",
       "      <td>vox</td>\n",
       "      <td>0.995289</td>\n",
       "      <td>0.996132</td>\n",
       "      <td>0.996114</td>\n",
       "      <td>0.993316</td>\n",
       "      <td>sin tildes</td>\n",
       "      <td>con tildes</td>\n",
       "    </tr>\n",
       "    <tr>\n",
       "      <th>1</th>\n",
       "      <td>1344940715072221184</td>\n",
       "      <td>La frase “ Falsa sensación de seguridad” viene...</td>\n",
       "      <td>juan-luis-steegmann-olmedillas</td>\n",
       "      <td>vox</td>\n",
       "      <td>0.987947</td>\n",
       "      <td>0.056416</td>\n",
       "      <td>0.985783</td>\n",
       "      <td>0.040629</td>\n",
       "      <td>con tildes</td>\n",
       "      <td>con tildes</td>\n",
       "    </tr>\n",
       "    <tr>\n",
       "      <th>2</th>\n",
       "      <td>1344945712128266240</td>\n",
       "      <td>El Comisario político del Gobierno no descansa...</td>\n",
       "      <td>macarena-montesinos-de-miguel</td>\n",
       "      <td>partido-popular</td>\n",
       "      <td>0.995368</td>\n",
       "      <td>0.995748</td>\n",
       "      <td>0.995438</td>\n",
       "      <td>0.995655</td>\n",
       "      <td>sin tildes</td>\n",
       "      <td>con tildes</td>\n",
       "    </tr>\n",
       "    <tr>\n",
       "      <th>3</th>\n",
       "      <td>1344962035277320193</td>\n",
       "      <td>Desde @CiudadanosCs presentamos una enmienda p...</td>\n",
       "      <td>NaN</td>\n",
       "      <td>NaN</td>\n",
       "      <td>0.016391</td>\n",
       "      <td>0.000838</td>\n",
       "      <td>0.017045</td>\n",
       "      <td>0.000813</td>\n",
       "      <td>sin tildes</td>\n",
       "      <td>con tildes</td>\n",
       "    </tr>\n",
       "    <tr>\n",
       "      <th>4</th>\n",
       "      <td>1344967124264116230</td>\n",
       "      <td>Y que mejor forma de dar la bienvenida al 2021...</td>\n",
       "      <td>maria-angeles-marra-dominguez</td>\n",
       "      <td>psoe</td>\n",
       "      <td>0.004446</td>\n",
       "      <td>0.002959</td>\n",
       "      <td>0.004253</td>\n",
       "      <td>0.003146</td>\n",
       "      <td>con tildes</td>\n",
       "      <td>sin tildes</td>\n",
       "    </tr>\n",
       "  </tbody>\n",
       "</table>\n",
       "</div>"
      ],
      "text/plain": [
       "            twitter_id                                      original_text  \\\n",
       "0  1344934218145669120  Llegará un momento que los miembros de este Go...   \n",
       "1  1344940715072221184  La frase “ Falsa sensación de seguridad” viene...   \n",
       "2  1344945712128266240  El Comisario político del Gobierno no descansa...   \n",
       "3  1344962035277320193  Desde @CiudadanosCs presentamos una enmienda p...   \n",
       "4  1344967124264116230  Y que mejor forma de dar la bienvenida al 2021...   \n",
       "\n",
       "                             slug       party_slug  toxic_original  \\\n",
       "0  juan-luis-steegmann-olmedillas              vox        0.995289   \n",
       "1  juan-luis-steegmann-olmedillas              vox        0.987947   \n",
       "2   macarena-montesinos-de-miguel  partido-popular        0.995368   \n",
       "3                             NaN              NaN        0.016391   \n",
       "4   maria-angeles-marra-dominguez             psoe        0.004446   \n",
       "\n",
       "   very_toxic_original  toxic_noaccent  very_toxic_noaccent  \\\n",
       "0             0.996132        0.996114             0.993316   \n",
       "1             0.056416        0.985783             0.040629   \n",
       "2             0.995748        0.995438             0.995655   \n",
       "3             0.000838        0.017045             0.000813   \n",
       "4             0.002959        0.004253             0.003146   \n",
       "\n",
       "  most_toxic_grammar most_verytoxic_grammar  \n",
       "0         sin tildes             con tildes  \n",
       "1         con tildes             con tildes  \n",
       "2         sin tildes             con tildes  \n",
       "3         sin tildes             con tildes  \n",
       "4         con tildes             sin tildes  "
      ]
     },
     "execution_count": 3,
     "metadata": {},
     "output_type": "execute_result"
    }
   ],
   "source": [
    "tweets.head()"
   ]
  },
  {
   "cell_type": "code",
   "execution_count": 4,
   "metadata": {
    "colab": {
     "base_uri": "https://localhost:8080/"
    },
    "id": "K8F24Jd9o1o9",
    "outputId": "929e471a-933b-44c0-c4ef-7729a44030da"
   },
   "outputs": [
    {
     "name": "stdout",
     "output_type": "stream",
     "text": [
      "Con tildes toxic:  0.29571437127105915\n",
      "Con tildes very toxic:  0.08084586595985278\n",
      "Sin tildes toxic:  0.300242413898577\n",
      "Sin tildes very toxic:  0.08014870762158596\n"
     ]
    }
   ],
   "source": [
    "print('Con tildes toxic: ', np.mean(tweets['toxic_original']))\n",
    "print('Con tildes very toxic: ', np.mean(tweets['very_toxic_original']))\n",
    "print('Sin tildes toxic: ', np.mean(tweets['toxic_noaccent']))\n",
    "print('Sin tildes very toxic: ', np.mean(tweets['very_toxic_noaccent']))"
   ]
  },
  {
   "cell_type": "markdown",
   "metadata": {},
   "source": [
    "> Parece que en cuanto al valor \"toxic\", son un poco más tóxicos tweets sin tildes, pero vemos en el caso de \"very toxic\" es muy similar.    \n",
    "> Aun así, parece que las medias están bastante igualadas."
   ]
  },
  {
   "cell_type": "code",
   "execution_count": 5,
   "metadata": {
    "colab": {
     "base_uri": "https://localhost:8080/"
    },
    "id": "ww_MQMQ_qTKh",
    "outputId": "a0b54efd-a7ad-4009-c97b-4709bfa48e77"
   },
   "outputs": [
    {
     "name": "stdout",
     "output_type": "stream",
     "text": [
      "Toxic con tildes 4825\n",
      "Toxic sin tildes 7223\n",
      "Very toxic con tildes 7712\n",
      "Very toxic sin tildes 4336\n"
     ]
    }
   ],
   "source": [
    "# Aquí calculamos las veces que un tweet es más tóxico con tildes que sin tildes y viceversa\n",
    "print('Toxic con tildes', np.count_nonzero(tweets.most_toxic_grammar == 'con tildes'))\n",
    "print('Toxic sin tildes', np.count_nonzero(tweets.most_toxic_grammar == 'sin tildes'))\n",
    "print('Very toxic con tildes', np.count_nonzero(tweets.most_verytoxic_grammar == 'con tildes'))\n",
    "print('Very toxic sin tildes', np.count_nonzero(tweets.most_verytoxic_grammar == 'sin tildes'))"
   ]
  },
  {
   "cell_type": "markdown",
   "metadata": {},
   "source": [
    "> En general, la variable \"toxic\" aumenta al no haber tildes pero la variable \"very_toxic\" es mayor con tildes"
   ]
  },
  {
   "cell_type": "markdown",
   "metadata": {
    "id": "nRUCptVwGhSw"
   },
   "source": [
    "## Análisis de datos acotados\n",
    "Ahora vamos a analizar tweets donde la ausencia de tildes cambia de manera significante la toxicidad. Solo miraremos tweets donde la diferencia sea superior a 10."
   ]
  },
  {
   "cell_type": "code",
   "execution_count": 6,
   "metadata": {
    "id": "4uoN7Lx6DZkA"
   },
   "outputs": [],
   "source": [
    "column_names = []\n",
    "for i in tweets:\n",
    "  column_names.append(i)\n",
    "tweets_filtered = pd.DataFrame(columns = column_names)"
   ]
  },
  {
   "cell_type": "code",
   "execution_count": 7,
   "metadata": {
    "id": "1diO5gvMCeQa"
   },
   "outputs": [],
   "source": [
    "for idx, row in tweets.iterrows():\n",
    "  if abs(row.toxic_original - row.toxic_noaccent) > 0.10:\n",
    "    tweets_filtered = tweets_filtered.append(row)"
   ]
  },
  {
   "cell_type": "code",
   "execution_count": 8,
   "metadata": {
    "colab": {
     "base_uri": "https://localhost:8080/",
     "height": 580
    },
    "id": "xk5B_0GKFxzx",
    "outputId": "b41e207b-583c-4558-f3cb-e11f880f9461"
   },
   "outputs": [
    {
     "data": {
      "text/html": [
       "<div>\n",
       "<style scoped>\n",
       "    .dataframe tbody tr th:only-of-type {\n",
       "        vertical-align: middle;\n",
       "    }\n",
       "\n",
       "    .dataframe tbody tr th {\n",
       "        vertical-align: top;\n",
       "    }\n",
       "\n",
       "    .dataframe thead th {\n",
       "        text-align: right;\n",
       "    }\n",
       "</style>\n",
       "<table border=\"1\" class=\"dataframe\">\n",
       "  <thead>\n",
       "    <tr style=\"text-align: right;\">\n",
       "      <th></th>\n",
       "      <th>twitter_id</th>\n",
       "      <th>original_text</th>\n",
       "      <th>slug</th>\n",
       "      <th>party_slug</th>\n",
       "      <th>toxic_original</th>\n",
       "      <th>very_toxic_original</th>\n",
       "      <th>toxic_noaccent</th>\n",
       "      <th>very_toxic_noaccent</th>\n",
       "      <th>most_toxic_grammar</th>\n",
       "      <th>most_verytoxic_grammar</th>\n",
       "    </tr>\n",
       "  </thead>\n",
       "  <tbody>\n",
       "    <tr>\n",
       "      <th>5</th>\n",
       "      <td>1344978091807035392</td>\n",
       "      <td>Un año de oposición: a la peor pandemia PP y V...</td>\n",
       "      <td>maria-angeles-marra-dominguez</td>\n",
       "      <td>psoe</td>\n",
       "      <td>0.525792</td>\n",
       "      <td>0.001039</td>\n",
       "      <td>0.894197</td>\n",
       "      <td>0.002838</td>\n",
       "      <td>sin tildes</td>\n",
       "      <td>sin tildes</td>\n",
       "    </tr>\n",
       "    <tr>\n",
       "      <th>24</th>\n",
       "      <td>1345462766212165632</td>\n",
       "      <td>La rapidez del contagio de la cepa británica e...</td>\n",
       "      <td>NaN</td>\n",
       "      <td>NaN</td>\n",
       "      <td>0.506995</td>\n",
       "      <td>0.001616</td>\n",
       "      <td>0.265326</td>\n",
       "      <td>0.001083</td>\n",
       "      <td>con tildes</td>\n",
       "      <td>con tildes</td>\n",
       "    </tr>\n",
       "    <tr>\n",
       "      <th>44</th>\n",
       "      <td>1346018260161077248</td>\n",
       "      <td>Desde el 1 de enero están en vigor los presupu...</td>\n",
       "      <td>belen-hoyo-julia</td>\n",
       "      <td>partido-popular</td>\n",
       "      <td>0.288427</td>\n",
       "      <td>0.000770</td>\n",
       "      <td>0.052053</td>\n",
       "      <td>0.000721</td>\n",
       "      <td>con tildes</td>\n",
       "      <td>con tildes</td>\n",
       "    </tr>\n",
       "    <tr>\n",
       "      <th>61</th>\n",
       "      <td>1346160087652556800</td>\n",
       "      <td>López Miras criticaba que la Ministra de Traba...</td>\n",
       "      <td>javier-sanchez-serna</td>\n",
       "      <td>podemos</td>\n",
       "      <td>0.796276</td>\n",
       "      <td>0.002114</td>\n",
       "      <td>0.939439</td>\n",
       "      <td>0.006534</td>\n",
       "      <td>sin tildes</td>\n",
       "      <td>sin tildes</td>\n",
       "    </tr>\n",
       "    <tr>\n",
       "      <th>65</th>\n",
       "      <td>1346168575032250369</td>\n",
       "      <td>“Carrizosa, si ETA estuviera no existirías”. \\...</td>\n",
       "      <td>guillermo-diaz-gomez</td>\n",
       "      <td>ciudadanos</td>\n",
       "      <td>0.406232</td>\n",
       "      <td>0.001017</td>\n",
       "      <td>0.029191</td>\n",
       "      <td>0.000962</td>\n",
       "      <td>con tildes</td>\n",
       "      <td>con tildes</td>\n",
       "    </tr>\n",
       "    <tr>\n",
       "      <th>...</th>\n",
       "      <td>...</td>\n",
       "      <td>...</td>\n",
       "      <td>...</td>\n",
       "      <td>...</td>\n",
       "      <td>...</td>\n",
       "      <td>...</td>\n",
       "      <td>...</td>\n",
       "      <td>...</td>\n",
       "      <td>...</td>\n",
       "      <td>...</td>\n",
       "    </tr>\n",
       "    <tr>\n",
       "      <th>11964</th>\n",
       "      <td>1453083115858038791</td>\n",
       "      <td>El consenso al descubierto. El PP con Podemos ...</td>\n",
       "      <td>rocio-de-meer-mendez</td>\n",
       "      <td>vox</td>\n",
       "      <td>0.442898</td>\n",
       "      <td>0.001002</td>\n",
       "      <td>0.549917</td>\n",
       "      <td>0.001133</td>\n",
       "      <td>sin tildes</td>\n",
       "      <td>sin tildes</td>\n",
       "    </tr>\n",
       "    <tr>\n",
       "      <th>11987</th>\n",
       "      <td>1452483511919824898</td>\n",
       "      <td>A Al Capone también le parecía que la policía ...</td>\n",
       "      <td>juan-ignacio-lopez-bas-valero</td>\n",
       "      <td>ciudadanos</td>\n",
       "      <td>0.902248</td>\n",
       "      <td>0.003599</td>\n",
       "      <td>0.710073</td>\n",
       "      <td>0.001535</td>\n",
       "      <td>con tildes</td>\n",
       "      <td>con tildes</td>\n",
       "    </tr>\n",
       "    <tr>\n",
       "      <th>11994</th>\n",
       "      <td>1453014574450479112</td>\n",
       "      <td>En la Comisión de Interior, hoy deconstruimos ...</td>\n",
       "      <td>ana-belen-vazquez-blanco</td>\n",
       "      <td>partido-popular</td>\n",
       "      <td>0.968546</td>\n",
       "      <td>0.011261</td>\n",
       "      <td>0.670001</td>\n",
       "      <td>0.001336</td>\n",
       "      <td>con tildes</td>\n",
       "      <td>con tildes</td>\n",
       "    </tr>\n",
       "    <tr>\n",
       "      <th>12023</th>\n",
       "      <td>1450521151982157828</td>\n",
       "      <td>Los jóvenes migrantes suelen ser noticia, solo...</td>\n",
       "      <td>jaume-asens-llodra</td>\n",
       "      <td>catalunya-en-comu</td>\n",
       "      <td>0.781455</td>\n",
       "      <td>0.002105</td>\n",
       "      <td>0.556372</td>\n",
       "      <td>0.001411</td>\n",
       "      <td>con tildes</td>\n",
       "      <td>con tildes</td>\n",
       "    </tr>\n",
       "    <tr>\n",
       "      <th>12038</th>\n",
       "      <td>1450543201115377672</td>\n",
       "      <td>“La patria es el otro” Gabriel Rufián. Lleva u...</td>\n",
       "      <td>ruben-silvano-manso-olivar</td>\n",
       "      <td>vox</td>\n",
       "      <td>0.392247</td>\n",
       "      <td>0.001122</td>\n",
       "      <td>0.499759</td>\n",
       "      <td>0.001362</td>\n",
       "      <td>sin tildes</td>\n",
       "      <td>sin tildes</td>\n",
       "    </tr>\n",
       "  </tbody>\n",
       "</table>\n",
       "<p>823 rows × 10 columns</p>\n",
       "</div>"
      ],
      "text/plain": [
       "                twitter_id                                      original_text  \\\n",
       "5      1344978091807035392  Un año de oposición: a la peor pandemia PP y V...   \n",
       "24     1345462766212165632  La rapidez del contagio de la cepa británica e...   \n",
       "44     1346018260161077248  Desde el 1 de enero están en vigor los presupu...   \n",
       "61     1346160087652556800  López Miras criticaba que la Ministra de Traba...   \n",
       "65     1346168575032250369  “Carrizosa, si ETA estuviera no existirías”. \\...   \n",
       "...                    ...                                                ...   \n",
       "11964  1453083115858038791  El consenso al descubierto. El PP con Podemos ...   \n",
       "11987  1452483511919824898  A Al Capone también le parecía que la policía ...   \n",
       "11994  1453014574450479112  En la Comisión de Interior, hoy deconstruimos ...   \n",
       "12023  1450521151982157828  Los jóvenes migrantes suelen ser noticia, solo...   \n",
       "12038  1450543201115377672  “La patria es el otro” Gabriel Rufián. Lleva u...   \n",
       "\n",
       "                                slug         party_slug  toxic_original  \\\n",
       "5      maria-angeles-marra-dominguez               psoe        0.525792   \n",
       "24                               NaN                NaN        0.506995   \n",
       "44                  belen-hoyo-julia    partido-popular        0.288427   \n",
       "61              javier-sanchez-serna            podemos        0.796276   \n",
       "65              guillermo-diaz-gomez         ciudadanos        0.406232   \n",
       "...                              ...                ...             ...   \n",
       "11964           rocio-de-meer-mendez                vox        0.442898   \n",
       "11987  juan-ignacio-lopez-bas-valero         ciudadanos        0.902248   \n",
       "11994       ana-belen-vazquez-blanco    partido-popular        0.968546   \n",
       "12023             jaume-asens-llodra  catalunya-en-comu        0.781455   \n",
       "12038     ruben-silvano-manso-olivar                vox        0.392247   \n",
       "\n",
       "       very_toxic_original  toxic_noaccent  very_toxic_noaccent  \\\n",
       "5                 0.001039        0.894197             0.002838   \n",
       "24                0.001616        0.265326             0.001083   \n",
       "44                0.000770        0.052053             0.000721   \n",
       "61                0.002114        0.939439             0.006534   \n",
       "65                0.001017        0.029191             0.000962   \n",
       "...                    ...             ...                  ...   \n",
       "11964             0.001002        0.549917             0.001133   \n",
       "11987             0.003599        0.710073             0.001535   \n",
       "11994             0.011261        0.670001             0.001336   \n",
       "12023             0.002105        0.556372             0.001411   \n",
       "12038             0.001122        0.499759             0.001362   \n",
       "\n",
       "      most_toxic_grammar most_verytoxic_grammar  \n",
       "5             sin tildes             sin tildes  \n",
       "24            con tildes             con tildes  \n",
       "44            con tildes             con tildes  \n",
       "61            sin tildes             sin tildes  \n",
       "65            con tildes             con tildes  \n",
       "...                  ...                    ...  \n",
       "11964         sin tildes             sin tildes  \n",
       "11987         con tildes             con tildes  \n",
       "11994         con tildes             con tildes  \n",
       "12023         con tildes             con tildes  \n",
       "12038         sin tildes             sin tildes  \n",
       "\n",
       "[823 rows x 10 columns]"
      ]
     },
     "execution_count": 8,
     "metadata": {},
     "output_type": "execute_result"
    }
   ],
   "source": [
    "tweets_filtered"
   ]
  },
  {
   "cell_type": "code",
   "execution_count": 9,
   "metadata": {
    "colab": {
     "base_uri": "https://localhost:8080/"
    },
    "id": "OTQQhpXwGQUI",
    "outputId": "3c0a7dec-483f-491d-aec8-46b9ca18c670"
   },
   "outputs": [
    {
     "name": "stdout",
     "output_type": "stream",
     "text": [
      "Con tildes toxic:  0.4433678603518351\n",
      "Con tildes very toxic:  0.0031834938606548945\n",
      "Sin tildes toxic:  0.49841069664810655\n",
      "Sin tildes very toxic:  0.00299137524673699\n"
     ]
    }
   ],
   "source": [
    "print('Con tildes toxic: ', np.mean(tweets_filtered['toxic_original']))\n",
    "print('Con tildes very toxic: ', np.mean(tweets_filtered['very_toxic_original']))\n",
    "print('Sin tildes toxic: ', np.mean(tweets_filtered['toxic_noaccent']))\n",
    "print('Sin tildes very toxic: ', np.mean(tweets_filtered['very_toxic_noaccent']))"
   ]
  },
  {
   "cell_type": "markdown",
   "metadata": {},
   "source": [
    "> Aquí vemos que en \"toxic\" la toxicidad es más alta en tweets sin tildes pero en \"very_toxic\" es más similar, siendo algo más alta en los tweets con tilde"
   ]
  },
  {
   "cell_type": "code",
   "execution_count": 10,
   "metadata": {
    "colab": {
     "base_uri": "https://localhost:8080/"
    },
    "id": "RzJEkdnRGQUN",
    "outputId": "bcf6a7d5-c010-4e64-b31f-e6b8ee7f504c"
   },
   "outputs": [
    {
     "name": "stdout",
     "output_type": "stream",
     "text": [
      "Toxic con tildes 325\n",
      "Toxic sin tildes 498\n",
      "Very toxic con tildes 368\n",
      "Very toxic sin tildes 455\n"
     ]
    }
   ],
   "source": [
    "print('Toxic con tildes', np.count_nonzero(tweets_filtered.most_toxic_grammar == 'con tildes'))\n",
    "print('Toxic sin tildes', np.count_nonzero(tweets_filtered.most_toxic_grammar == 'sin tildes'))\n",
    "print('Very toxic con tildes', np.count_nonzero(tweets_filtered.most_verytoxic_grammar == 'con tildes'))\n",
    "print('Very toxic sin tildes', np.count_nonzero(tweets_filtered.most_verytoxic_grammar == 'sin tildes'))"
   ]
  },
  {
   "cell_type": "markdown",
   "metadata": {},
   "source": [
    "> Parece que cuando solo miramos casos donde la diferencia de toxicidad es significante, es más tóxico (tanto \"toxic\" como \"very_toxic\") en cuanto no usan tildes"
   ]
  }
 ],
 "metadata": {
  "colab": {
   "name": "Sesgos-tildes.ipynb",
   "provenance": []
  },
  "kernelspec": {
   "display_name": "Python 3 (ipykernel)",
   "language": "python",
   "name": "python3"
  },
  "language_info": {
   "codemirror_mode": {
    "name": "ipython",
    "version": 3
   },
   "file_extension": ".py",
   "mimetype": "text/x-python",
   "name": "python",
   "nbconvert_exporter": "python",
   "pygments_lexer": "ipython3",
   "version": "3.9.7"
  }
 },
 "nbformat": 4,
 "nbformat_minor": 4
}
